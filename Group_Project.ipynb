{
 "cells": [
  {
   "cell_type": "markdown",
   "id": "e92cb45c-50f8-4a14-9ff3-868ffdafe880",
   "metadata": {},
   "source": [
    "## Context:\n",
    "A new football club named ‘GL United FC’ has just been inaugurated. This clubdoes not have a team yet. The team is looking to hire players for their roster. Management wants to make such decisions using a data based approach. During a recent hiring drive, you were selected for the Data Science team as a data scientist. Your team has been tasked with creating a report which recommends players for the main team. To start with, a total of 15 players are required. Player data for all teams has been acquired from FIFA. This data contains information about the players, the clubs they are currently playing for and various performance measures. The team needs 20 possible players to choose from. You have been requested to do the analysis and formulate a report in order to help the management make a decision regarding potential players.\n",
    "\n",
    "## Dataset Description:\r",
    " The data contains details for over 18,000 players playing in various footbal \n",
    " clubs in Europe. It contains information on age, skill rating, wages and play \r\n",
    " value, etc.\n",
    "\n",
    "- **ID:**\tunique id for every player\n",
    "- **Name:**\tname\n",
    "- **Age:**\tage\n",
    "- **Photo:**\turl to the player's photo\n",
    "- **Nationality:**\tnationality\n",
    "- **Flag:**\turl to players's country flag\n",
    "- **Overall:**\toverall rating\n",
    "- **Potential:**\tpotential rating\n",
    "- **Club:**\tcurrent club\n",
    "- **Club Logo:**\turl to club logo\n",
    "- **Value:**\tcurrent market value\n",
    "- **Wage:**\tcurrent wage\n",
    "- **Preferred Foot:**\tleft/right\n",
    "- **International Reputation:**\trating on scale of 5\n",
    "- **Weak Foot:**\trating on scale of 5\n",
    "- **Skill Moves:**\trating on scale of 5\n",
    "- **Work Rate:**\tattack work rate/defence work rate\n",
    "- **Body Type:**\tbody type of player\n",
    "- **Position:**\tposition on the pitch\n",
    "- **Jersey Number:**\tjersey number\n",
    "- **Joined:**\tjoined date\n",
    "- **Loaned From:**\tclub name if applicable\n",
    "- **Contract Valid Until:**\tcontract end date\n",
    "- **Height:**\theight of the player\n",
    "- **Weight:**\tweight of the player\n",
    "- **Crossing:**\trating on scale of 100\n",
    "- **Finishing:**\trating on scale of 100\n",
    "- **HeadingAccuracy:**\trating on scale of 100\n",
    "- **ShortPassing:**\trating on scale of 100\n",
    "- **Volleys:**\trating on scale of 100\n",
    "- **Dribbling:**\trating on scale of 100\n",
    "- **Curve:**\trating on scale of 100\n",
    "- **FKAccuracy:**\trating on scale of 100\n",
    "- **LongPassing:**\trating on scale of 100\n",
    "- **BallControl:**\trating on scale of 100\n",
    "- **Acceleration:**\trating on scale of 100\n",
    "- **SprintSpeed:**\trating on scale of 100\n",
    "- **Agility:**\trating on scale of 100\n",
    "- **Reactions:**\trating on scale of 100\\\n",
    "- **Balance:**\trating on scale of 100\n",
    "- **ShotPower:**\trating on scale of 100\n",
    "- **Jumping:**\trating on scale of 100\n",
    "- **Stamina:**\trating on scale of 100\n",
    "- **Strength:**\trating on scale of 100\n",
    "- **LongShots:**\trating on scale of 100\n",
    "- **Aggression:**\trating on scale of 100\n",
    "- **Interceptions:**\trating on scale of 100\n",
    "- **Positioning:**\trating on scale of 100\n",
    "- **Vision:**\trating on scale of 100\n",
    "- **Penalties:**\trating on scale of 100\n",
    "- **Composure:**\trating on scale of 100\n",
    "- **Marking:**\trating on scale of 100\n",
    "- **StandingTackle:**\trating on scale of 100\n",
    "- **SlidingTackle:**\trating on scale of 100\n",
    "- **GKDiving:**\trating on scale of 100\n",
    "- **GKHandling:**\trating on scale of 100\n",
    "- **GKKicking:**\trating on scale of 100\n",
    "- **GKPositioning:**\trating on scale of 100\n",
    "- **GKReflexes:**\trating on scale of 100\n",
    "- **Release Clause:**\trelease clause value"
   ]
  },
  {
   "cell_type": "markdown",
   "id": "1a5f83ef-5b1a-4781-936e-221d484faa1e",
   "metadata": {},
   "source": [
    "## Load and explore data (4 points)"
   ]
  },
  {
   "cell_type": "markdown",
   "id": "3e0a3f8e-f723-4c34-9d97-2469de465375",
   "metadata": {},
   "source": [
    "### 1. Import the required libraries and read the dataset. (1 point)"
   ]
  },
  {
   "cell_type": "code",
   "execution_count": 4,
   "id": "cd88c65c-3f8e-4fd0-b19e-b078fab4390b",
   "metadata": {},
   "outputs": [],
   "source": [
    "import numpy as np\n",
    "import pandas as pd\n",
    "import matplotlib.pyplot as plt\n",
    "import seaborn as sns\n",
    "from sklearn.preprocessing import StandardScaler\n",
    "\n",
    "import warnings\n",
    "warnings.filterwarnings('ignore')"
   ]
  },
  {
   "cell_type": "code",
   "execution_count": 5,
   "id": "7f39f4da-9661-43e5-bcc2-d425c859cd77",
   "metadata": {},
   "outputs": [],
   "source": [
    "df = pd.read_csv(\"fifa.csv\")"
   ]
  },
  {
   "cell_type": "markdown",
   "id": "2678c343-3b97-4308-91a2-13c818fef759",
   "metadata": {},
   "source": [
    "### 2. Check the first few samples, shape, info of the data and try to familiarize yourself with different features. (2 points)"
   ]
  },
  {
   "cell_type": "code",
   "execution_count": 7,
   "id": "87f28515-0c9e-42b5-ad60-4bf29d1b53cb",
   "metadata": {},
   "outputs": [
    {
     "data": {
      "text/html": [
       "<div>\n",
       "<style scoped>\n",
       "    .dataframe tbody tr th:only-of-type {\n",
       "        vertical-align: middle;\n",
       "    }\n",
       "\n",
       "    .dataframe tbody tr th {\n",
       "        vertical-align: top;\n",
       "    }\n",
       "\n",
       "    .dataframe thead th {\n",
       "        text-align: right;\n",
       "    }\n",
       "</style>\n",
       "<table border=\"1\" class=\"dataframe\">\n",
       "  <thead>\n",
       "    <tr style=\"text-align: right;\">\n",
       "      <th></th>\n",
       "      <th>ID</th>\n",
       "      <th>Name</th>\n",
       "      <th>Age</th>\n",
       "      <th>Photo</th>\n",
       "      <th>Nationality</th>\n",
       "      <th>Flag</th>\n",
       "      <th>Overall</th>\n",
       "      <th>Potential</th>\n",
       "      <th>Club</th>\n",
       "      <th>Club Logo</th>\n",
       "      <th>...</th>\n",
       "      <th>Composure</th>\n",
       "      <th>Marking</th>\n",
       "      <th>StandingTackle</th>\n",
       "      <th>SlidingTackle</th>\n",
       "      <th>GKDiving</th>\n",
       "      <th>GKHandling</th>\n",
       "      <th>GKKicking</th>\n",
       "      <th>GKPositioning</th>\n",
       "      <th>GKReflexes</th>\n",
       "      <th>Release Clause</th>\n",
       "    </tr>\n",
       "  </thead>\n",
       "  <tbody>\n",
       "    <tr>\n",
       "      <th>0</th>\n",
       "      <td>158023</td>\n",
       "      <td>L. Messi</td>\n",
       "      <td>31</td>\n",
       "      <td>https://cdn.sofifa.org/players/4/19/158023.png</td>\n",
       "      <td>Argentina</td>\n",
       "      <td>https://cdn.sofifa.org/flags/52.png</td>\n",
       "      <td>94</td>\n",
       "      <td>94</td>\n",
       "      <td>FC Barcelona</td>\n",
       "      <td>https://cdn.sofifa.org/teams/2/light/241.png</td>\n",
       "      <td>...</td>\n",
       "      <td>96.0</td>\n",
       "      <td>33.0</td>\n",
       "      <td>28.0</td>\n",
       "      <td>26.0</td>\n",
       "      <td>6.0</td>\n",
       "      <td>11.0</td>\n",
       "      <td>15.0</td>\n",
       "      <td>14.0</td>\n",
       "      <td>8.0</td>\n",
       "      <td>€226.5M</td>\n",
       "    </tr>\n",
       "    <tr>\n",
       "      <th>1</th>\n",
       "      <td>20801</td>\n",
       "      <td>Cristiano Ronaldo</td>\n",
       "      <td>33</td>\n",
       "      <td>https://cdn.sofifa.org/players/4/19/20801.png</td>\n",
       "      <td>Portugal</td>\n",
       "      <td>https://cdn.sofifa.org/flags/38.png</td>\n",
       "      <td>94</td>\n",
       "      <td>94</td>\n",
       "      <td>Juventus</td>\n",
       "      <td>https://cdn.sofifa.org/teams/2/light/45.png</td>\n",
       "      <td>...</td>\n",
       "      <td>95.0</td>\n",
       "      <td>28.0</td>\n",
       "      <td>31.0</td>\n",
       "      <td>23.0</td>\n",
       "      <td>7.0</td>\n",
       "      <td>11.0</td>\n",
       "      <td>15.0</td>\n",
       "      <td>14.0</td>\n",
       "      <td>11.0</td>\n",
       "      <td>€127.1M</td>\n",
       "    </tr>\n",
       "    <tr>\n",
       "      <th>2</th>\n",
       "      <td>190871</td>\n",
       "      <td>Neymar Jr</td>\n",
       "      <td>26</td>\n",
       "      <td>https://cdn.sofifa.org/players/4/19/190871.png</td>\n",
       "      <td>Brazil</td>\n",
       "      <td>https://cdn.sofifa.org/flags/54.png</td>\n",
       "      <td>92</td>\n",
       "      <td>93</td>\n",
       "      <td>Paris Saint-Germain</td>\n",
       "      <td>https://cdn.sofifa.org/teams/2/light/73.png</td>\n",
       "      <td>...</td>\n",
       "      <td>94.0</td>\n",
       "      <td>27.0</td>\n",
       "      <td>24.0</td>\n",
       "      <td>33.0</td>\n",
       "      <td>9.0</td>\n",
       "      <td>9.0</td>\n",
       "      <td>15.0</td>\n",
       "      <td>15.0</td>\n",
       "      <td>11.0</td>\n",
       "      <td>€228.1M</td>\n",
       "    </tr>\n",
       "    <tr>\n",
       "      <th>3</th>\n",
       "      <td>193080</td>\n",
       "      <td>De Gea</td>\n",
       "      <td>27</td>\n",
       "      <td>https://cdn.sofifa.org/players/4/19/193080.png</td>\n",
       "      <td>Spain</td>\n",
       "      <td>https://cdn.sofifa.org/flags/45.png</td>\n",
       "      <td>91</td>\n",
       "      <td>93</td>\n",
       "      <td>Manchester United</td>\n",
       "      <td>https://cdn.sofifa.org/teams/2/light/11.png</td>\n",
       "      <td>...</td>\n",
       "      <td>68.0</td>\n",
       "      <td>15.0</td>\n",
       "      <td>21.0</td>\n",
       "      <td>13.0</td>\n",
       "      <td>90.0</td>\n",
       "      <td>85.0</td>\n",
       "      <td>87.0</td>\n",
       "      <td>88.0</td>\n",
       "      <td>94.0</td>\n",
       "      <td>€138.6M</td>\n",
       "    </tr>\n",
       "    <tr>\n",
       "      <th>4</th>\n",
       "      <td>192985</td>\n",
       "      <td>K. De Bruyne</td>\n",
       "      <td>27</td>\n",
       "      <td>https://cdn.sofifa.org/players/4/19/192985.png</td>\n",
       "      <td>Belgium</td>\n",
       "      <td>https://cdn.sofifa.org/flags/7.png</td>\n",
       "      <td>91</td>\n",
       "      <td>92</td>\n",
       "      <td>Manchester City</td>\n",
       "      <td>https://cdn.sofifa.org/teams/2/light/10.png</td>\n",
       "      <td>...</td>\n",
       "      <td>88.0</td>\n",
       "      <td>68.0</td>\n",
       "      <td>58.0</td>\n",
       "      <td>51.0</td>\n",
       "      <td>15.0</td>\n",
       "      <td>13.0</td>\n",
       "      <td>5.0</td>\n",
       "      <td>10.0</td>\n",
       "      <td>13.0</td>\n",
       "      <td>€196.4M</td>\n",
       "    </tr>\n",
       "  </tbody>\n",
       "</table>\n",
       "<p>5 rows × 60 columns</p>\n",
       "</div>"
      ],
      "text/plain": [
       "       ID               Name  Age  \\\n",
       "0  158023           L. Messi   31   \n",
       "1   20801  Cristiano Ronaldo   33   \n",
       "2  190871          Neymar Jr   26   \n",
       "3  193080             De Gea   27   \n",
       "4  192985       K. De Bruyne   27   \n",
       "\n",
       "                                            Photo Nationality  \\\n",
       "0  https://cdn.sofifa.org/players/4/19/158023.png   Argentina   \n",
       "1   https://cdn.sofifa.org/players/4/19/20801.png    Portugal   \n",
       "2  https://cdn.sofifa.org/players/4/19/190871.png      Brazil   \n",
       "3  https://cdn.sofifa.org/players/4/19/193080.png       Spain   \n",
       "4  https://cdn.sofifa.org/players/4/19/192985.png     Belgium   \n",
       "\n",
       "                                  Flag  Overall  Potential  \\\n",
       "0  https://cdn.sofifa.org/flags/52.png       94         94   \n",
       "1  https://cdn.sofifa.org/flags/38.png       94         94   \n",
       "2  https://cdn.sofifa.org/flags/54.png       92         93   \n",
       "3  https://cdn.sofifa.org/flags/45.png       91         93   \n",
       "4   https://cdn.sofifa.org/flags/7.png       91         92   \n",
       "\n",
       "                  Club                                     Club Logo  ...  \\\n",
       "0         FC Barcelona  https://cdn.sofifa.org/teams/2/light/241.png  ...   \n",
       "1             Juventus   https://cdn.sofifa.org/teams/2/light/45.png  ...   \n",
       "2  Paris Saint-Germain   https://cdn.sofifa.org/teams/2/light/73.png  ...   \n",
       "3    Manchester United   https://cdn.sofifa.org/teams/2/light/11.png  ...   \n",
       "4      Manchester City   https://cdn.sofifa.org/teams/2/light/10.png  ...   \n",
       "\n",
       "  Composure Marking StandingTackle  SlidingTackle  GKDiving  GKHandling  \\\n",
       "0      96.0    33.0           28.0           26.0       6.0        11.0   \n",
       "1      95.0    28.0           31.0           23.0       7.0        11.0   \n",
       "2      94.0    27.0           24.0           33.0       9.0         9.0   \n",
       "3      68.0    15.0           21.0           13.0      90.0        85.0   \n",
       "4      88.0    68.0           58.0           51.0      15.0        13.0   \n",
       "\n",
       "  GKKicking GKPositioning GKReflexes  Release Clause  \n",
       "0      15.0          14.0        8.0         €226.5M  \n",
       "1      15.0          14.0       11.0         €127.1M  \n",
       "2      15.0          15.0       11.0         €228.1M  \n",
       "3      87.0          88.0       94.0         €138.6M  \n",
       "4       5.0          10.0       13.0         €196.4M  \n",
       "\n",
       "[5 rows x 60 columns]"
      ]
     },
     "execution_count": 7,
     "metadata": {},
     "output_type": "execute_result"
    }
   ],
   "source": [
    "df.head()"
   ]
  },
  {
   "cell_type": "code",
   "execution_count": 8,
   "id": "d06636a8-34e4-4cf2-bf56-abb819a8cadd",
   "metadata": {},
   "outputs": [
    {
     "data": {
      "text/plain": [
       "(18207, 60)"
      ]
     },
     "execution_count": 8,
     "metadata": {},
     "output_type": "execute_result"
    }
   ],
   "source": [
    "df.shape"
   ]
  },
  {
   "cell_type": "code",
   "execution_count": 9,
   "id": "d555b170-9694-456e-8ac9-265bce431dac",
   "metadata": {},
   "outputs": [
    {
     "name": "stdout",
     "output_type": "stream",
     "text": [
      "<class 'pandas.core.frame.DataFrame'>\n",
      "RangeIndex: 18207 entries, 0 to 18206\n",
      "Data columns (total 60 columns):\n",
      " #   Column                    Non-Null Count  Dtype  \n",
      "---  ------                    --------------  -----  \n",
      " 0   ID                        18207 non-null  int64  \n",
      " 1   Name                      18207 non-null  object \n",
      " 2   Age                       18207 non-null  int64  \n",
      " 3   Photo                     18207 non-null  object \n",
      " 4   Nationality               18207 non-null  object \n",
      " 5   Flag                      18207 non-null  object \n",
      " 6   Overall                   18207 non-null  int64  \n",
      " 7   Potential                 18207 non-null  int64  \n",
      " 8   Club                      17966 non-null  object \n",
      " 9   Club Logo                 18207 non-null  object \n",
      " 10  Value                     18207 non-null  object \n",
      " 11  Wage                      18207 non-null  object \n",
      " 12  Preferred Foot            18159 non-null  object \n",
      " 13  International Reputation  18159 non-null  float64\n",
      " 14  Weak Foot                 18159 non-null  float64\n",
      " 15  Skill Moves               18159 non-null  float64\n",
      " 16  Work Rate                 18159 non-null  object \n",
      " 17  Body Type                 18159 non-null  object \n",
      " 18  Position                  18147 non-null  object \n",
      " 19  Jersey Number             18147 non-null  float64\n",
      " 20  Joined                    16654 non-null  object \n",
      " 21  Loaned From               1264 non-null   object \n",
      " 22  Contract Valid Until      17918 non-null  object \n",
      " 23  Height                    18159 non-null  object \n",
      " 24  Weight                    18159 non-null  object \n",
      " 25  Crossing                  18159 non-null  float64\n",
      " 26  Finishing                 18159 non-null  float64\n",
      " 27  HeadingAccuracy           18159 non-null  float64\n",
      " 28  ShortPassing              18159 non-null  float64\n",
      " 29  Volleys                   18159 non-null  float64\n",
      " 30  Dribbling                 18159 non-null  float64\n",
      " 31  Curve                     18159 non-null  float64\n",
      " 32  FKAccuracy                18159 non-null  float64\n",
      " 33  LongPassing               18159 non-null  float64\n",
      " 34  BallControl               18159 non-null  float64\n",
      " 35  Acceleration              18159 non-null  float64\n",
      " 36  SprintSpeed               18159 non-null  float64\n",
      " 37  Agility                   18159 non-null  float64\n",
      " 38  Reactions                 18159 non-null  float64\n",
      " 39  Balance                   18159 non-null  float64\n",
      " 40  ShotPower                 18159 non-null  float64\n",
      " 41  Jumping                   18159 non-null  float64\n",
      " 42  Stamina                   18159 non-null  float64\n",
      " 43  Strength                  18159 non-null  float64\n",
      " 44  LongShots                 18159 non-null  float64\n",
      " 45  Aggression                18159 non-null  float64\n",
      " 46  Interceptions             18159 non-null  float64\n",
      " 47  Positioning               18159 non-null  float64\n",
      " 48  Vision                    18159 non-null  float64\n",
      " 49  Penalties                 18159 non-null  float64\n",
      " 50  Composure                 18159 non-null  float64\n",
      " 51  Marking                   18159 non-null  float64\n",
      " 52  StandingTackle            18159 non-null  float64\n",
      " 53  SlidingTackle             18159 non-null  float64\n",
      " 54  GKDiving                  18159 non-null  float64\n",
      " 55  GKHandling                18159 non-null  float64\n",
      " 56  GKKicking                 18159 non-null  float64\n",
      " 57  GKPositioning             18159 non-null  float64\n",
      " 58  GKReflexes                18159 non-null  float64\n",
      " 59  Release Clause            16643 non-null  object \n",
      "dtypes: float64(38), int64(4), object(18)\n",
      "memory usage: 8.3+ MB\n"
     ]
    }
   ],
   "source": [
    "df.info()"
   ]
  },
  {
   "cell_type": "code",
   "execution_count": 10,
   "id": "832ee642-c05b-4a59-ba48-218275759ec8",
   "metadata": {},
   "outputs": [
    {
     "data": {
      "text/html": [
       "<div>\n",
       "<style scoped>\n",
       "    .dataframe tbody tr th:only-of-type {\n",
       "        vertical-align: middle;\n",
       "    }\n",
       "\n",
       "    .dataframe tbody tr th {\n",
       "        vertical-align: top;\n",
       "    }\n",
       "\n",
       "    .dataframe thead th {\n",
       "        text-align: right;\n",
       "    }\n",
       "</style>\n",
       "<table border=\"1\" class=\"dataframe\">\n",
       "  <thead>\n",
       "    <tr style=\"text-align: right;\">\n",
       "      <th></th>\n",
       "      <th>count</th>\n",
       "      <th>mean</th>\n",
       "      <th>std</th>\n",
       "      <th>min</th>\n",
       "      <th>25%</th>\n",
       "      <th>50%</th>\n",
       "      <th>75%</th>\n",
       "      <th>max</th>\n",
       "    </tr>\n",
       "  </thead>\n",
       "  <tbody>\n",
       "    <tr>\n",
       "      <th>ID</th>\n",
       "      <td>18207.0</td>\n",
       "      <td>214298.338606</td>\n",
       "      <td>29965.244204</td>\n",
       "      <td>16.0</td>\n",
       "      <td>200315.5</td>\n",
       "      <td>221759.0</td>\n",
       "      <td>236529.5</td>\n",
       "      <td>246620.0</td>\n",
       "    </tr>\n",
       "    <tr>\n",
       "      <th>Age</th>\n",
       "      <td>18207.0</td>\n",
       "      <td>25.122206</td>\n",
       "      <td>4.669943</td>\n",
       "      <td>16.0</td>\n",
       "      <td>21.0</td>\n",
       "      <td>25.0</td>\n",
       "      <td>28.0</td>\n",
       "      <td>45.0</td>\n",
       "    </tr>\n",
       "    <tr>\n",
       "      <th>Overall</th>\n",
       "      <td>18207.0</td>\n",
       "      <td>66.238699</td>\n",
       "      <td>6.908930</td>\n",
       "      <td>46.0</td>\n",
       "      <td>62.0</td>\n",
       "      <td>66.0</td>\n",
       "      <td>71.0</td>\n",
       "      <td>94.0</td>\n",
       "    </tr>\n",
       "    <tr>\n",
       "      <th>Potential</th>\n",
       "      <td>18207.0</td>\n",
       "      <td>71.307299</td>\n",
       "      <td>6.136496</td>\n",
       "      <td>48.0</td>\n",
       "      <td>67.0</td>\n",
       "      <td>71.0</td>\n",
       "      <td>75.0</td>\n",
       "      <td>95.0</td>\n",
       "    </tr>\n",
       "    <tr>\n",
       "      <th>International Reputation</th>\n",
       "      <td>18159.0</td>\n",
       "      <td>1.113222</td>\n",
       "      <td>0.394031</td>\n",
       "      <td>1.0</td>\n",
       "      <td>1.0</td>\n",
       "      <td>1.0</td>\n",
       "      <td>1.0</td>\n",
       "      <td>5.0</td>\n",
       "    </tr>\n",
       "    <tr>\n",
       "      <th>Weak Foot</th>\n",
       "      <td>18159.0</td>\n",
       "      <td>2.947299</td>\n",
       "      <td>0.660456</td>\n",
       "      <td>1.0</td>\n",
       "      <td>3.0</td>\n",
       "      <td>3.0</td>\n",
       "      <td>3.0</td>\n",
       "      <td>5.0</td>\n",
       "    </tr>\n",
       "    <tr>\n",
       "      <th>Skill Moves</th>\n",
       "      <td>18159.0</td>\n",
       "      <td>2.361308</td>\n",
       "      <td>0.756164</td>\n",
       "      <td>1.0</td>\n",
       "      <td>2.0</td>\n",
       "      <td>2.0</td>\n",
       "      <td>3.0</td>\n",
       "      <td>5.0</td>\n",
       "    </tr>\n",
       "    <tr>\n",
       "      <th>Jersey Number</th>\n",
       "      <td>18147.0</td>\n",
       "      <td>19.546096</td>\n",
       "      <td>15.947765</td>\n",
       "      <td>1.0</td>\n",
       "      <td>8.0</td>\n",
       "      <td>17.0</td>\n",
       "      <td>26.0</td>\n",
       "      <td>99.0</td>\n",
       "    </tr>\n",
       "    <tr>\n",
       "      <th>Crossing</th>\n",
       "      <td>18159.0</td>\n",
       "      <td>49.734181</td>\n",
       "      <td>18.364524</td>\n",
       "      <td>5.0</td>\n",
       "      <td>38.0</td>\n",
       "      <td>54.0</td>\n",
       "      <td>64.0</td>\n",
       "      <td>93.0</td>\n",
       "    </tr>\n",
       "    <tr>\n",
       "      <th>Finishing</th>\n",
       "      <td>18159.0</td>\n",
       "      <td>45.550911</td>\n",
       "      <td>19.525820</td>\n",
       "      <td>2.0</td>\n",
       "      <td>30.0</td>\n",
       "      <td>49.0</td>\n",
       "      <td>62.0</td>\n",
       "      <td>95.0</td>\n",
       "    </tr>\n",
       "    <tr>\n",
       "      <th>HeadingAccuracy</th>\n",
       "      <td>18159.0</td>\n",
       "      <td>52.298144</td>\n",
       "      <td>17.379909</td>\n",
       "      <td>4.0</td>\n",
       "      <td>44.0</td>\n",
       "      <td>56.0</td>\n",
       "      <td>64.0</td>\n",
       "      <td>94.0</td>\n",
       "    </tr>\n",
       "    <tr>\n",
       "      <th>ShortPassing</th>\n",
       "      <td>18159.0</td>\n",
       "      <td>58.686712</td>\n",
       "      <td>14.699495</td>\n",
       "      <td>7.0</td>\n",
       "      <td>54.0</td>\n",
       "      <td>62.0</td>\n",
       "      <td>68.0</td>\n",
       "      <td>93.0</td>\n",
       "    </tr>\n",
       "    <tr>\n",
       "      <th>Volleys</th>\n",
       "      <td>18159.0</td>\n",
       "      <td>42.909026</td>\n",
       "      <td>17.694408</td>\n",
       "      <td>4.0</td>\n",
       "      <td>30.0</td>\n",
       "      <td>44.0</td>\n",
       "      <td>57.0</td>\n",
       "      <td>90.0</td>\n",
       "    </tr>\n",
       "    <tr>\n",
       "      <th>Dribbling</th>\n",
       "      <td>18159.0</td>\n",
       "      <td>55.371001</td>\n",
       "      <td>18.910371</td>\n",
       "      <td>4.0</td>\n",
       "      <td>49.0</td>\n",
       "      <td>61.0</td>\n",
       "      <td>68.0</td>\n",
       "      <td>97.0</td>\n",
       "    </tr>\n",
       "    <tr>\n",
       "      <th>Curve</th>\n",
       "      <td>18159.0</td>\n",
       "      <td>47.170824</td>\n",
       "      <td>18.395264</td>\n",
       "      <td>6.0</td>\n",
       "      <td>34.0</td>\n",
       "      <td>48.0</td>\n",
       "      <td>62.0</td>\n",
       "      <td>94.0</td>\n",
       "    </tr>\n",
       "    <tr>\n",
       "      <th>FKAccuracy</th>\n",
       "      <td>18159.0</td>\n",
       "      <td>42.863153</td>\n",
       "      <td>17.478763</td>\n",
       "      <td>3.0</td>\n",
       "      <td>31.0</td>\n",
       "      <td>41.0</td>\n",
       "      <td>57.0</td>\n",
       "      <td>94.0</td>\n",
       "    </tr>\n",
       "    <tr>\n",
       "      <th>LongPassing</th>\n",
       "      <td>18159.0</td>\n",
       "      <td>52.711933</td>\n",
       "      <td>15.327870</td>\n",
       "      <td>9.0</td>\n",
       "      <td>43.0</td>\n",
       "      <td>56.0</td>\n",
       "      <td>64.0</td>\n",
       "      <td>93.0</td>\n",
       "    </tr>\n",
       "    <tr>\n",
       "      <th>BallControl</th>\n",
       "      <td>18159.0</td>\n",
       "      <td>58.369459</td>\n",
       "      <td>16.686595</td>\n",
       "      <td>5.0</td>\n",
       "      <td>54.0</td>\n",
       "      <td>63.0</td>\n",
       "      <td>69.0</td>\n",
       "      <td>96.0</td>\n",
       "    </tr>\n",
       "    <tr>\n",
       "      <th>Acceleration</th>\n",
       "      <td>18159.0</td>\n",
       "      <td>64.614076</td>\n",
       "      <td>14.927780</td>\n",
       "      <td>12.0</td>\n",
       "      <td>57.0</td>\n",
       "      <td>67.0</td>\n",
       "      <td>75.0</td>\n",
       "      <td>97.0</td>\n",
       "    </tr>\n",
       "    <tr>\n",
       "      <th>SprintSpeed</th>\n",
       "      <td>18159.0</td>\n",
       "      <td>64.726967</td>\n",
       "      <td>14.649953</td>\n",
       "      <td>12.0</td>\n",
       "      <td>57.0</td>\n",
       "      <td>67.0</td>\n",
       "      <td>75.0</td>\n",
       "      <td>96.0</td>\n",
       "    </tr>\n",
       "    <tr>\n",
       "      <th>Agility</th>\n",
       "      <td>18159.0</td>\n",
       "      <td>63.503607</td>\n",
       "      <td>14.766049</td>\n",
       "      <td>14.0</td>\n",
       "      <td>55.0</td>\n",
       "      <td>66.0</td>\n",
       "      <td>74.0</td>\n",
       "      <td>96.0</td>\n",
       "    </tr>\n",
       "    <tr>\n",
       "      <th>Reactions</th>\n",
       "      <td>18159.0</td>\n",
       "      <td>61.836610</td>\n",
       "      <td>9.010464</td>\n",
       "      <td>21.0</td>\n",
       "      <td>56.0</td>\n",
       "      <td>62.0</td>\n",
       "      <td>68.0</td>\n",
       "      <td>96.0</td>\n",
       "    </tr>\n",
       "    <tr>\n",
       "      <th>Balance</th>\n",
       "      <td>18159.0</td>\n",
       "      <td>63.966573</td>\n",
       "      <td>14.136166</td>\n",
       "      <td>16.0</td>\n",
       "      <td>56.0</td>\n",
       "      <td>66.0</td>\n",
       "      <td>74.0</td>\n",
       "      <td>96.0</td>\n",
       "    </tr>\n",
       "    <tr>\n",
       "      <th>ShotPower</th>\n",
       "      <td>18159.0</td>\n",
       "      <td>55.460047</td>\n",
       "      <td>17.237958</td>\n",
       "      <td>2.0</td>\n",
       "      <td>45.0</td>\n",
       "      <td>59.0</td>\n",
       "      <td>68.0</td>\n",
       "      <td>95.0</td>\n",
       "    </tr>\n",
       "    <tr>\n",
       "      <th>Jumping</th>\n",
       "      <td>18159.0</td>\n",
       "      <td>65.089432</td>\n",
       "      <td>11.820044</td>\n",
       "      <td>15.0</td>\n",
       "      <td>58.0</td>\n",
       "      <td>66.0</td>\n",
       "      <td>73.0</td>\n",
       "      <td>95.0</td>\n",
       "    </tr>\n",
       "    <tr>\n",
       "      <th>Stamina</th>\n",
       "      <td>18159.0</td>\n",
       "      <td>63.219946</td>\n",
       "      <td>15.894741</td>\n",
       "      <td>12.0</td>\n",
       "      <td>56.0</td>\n",
       "      <td>66.0</td>\n",
       "      <td>74.0</td>\n",
       "      <td>96.0</td>\n",
       "    </tr>\n",
       "    <tr>\n",
       "      <th>Strength</th>\n",
       "      <td>18159.0</td>\n",
       "      <td>65.311967</td>\n",
       "      <td>12.557000</td>\n",
       "      <td>17.0</td>\n",
       "      <td>58.0</td>\n",
       "      <td>67.0</td>\n",
       "      <td>74.0</td>\n",
       "      <td>97.0</td>\n",
       "    </tr>\n",
       "    <tr>\n",
       "      <th>LongShots</th>\n",
       "      <td>18159.0</td>\n",
       "      <td>47.109973</td>\n",
       "      <td>19.260524</td>\n",
       "      <td>3.0</td>\n",
       "      <td>33.0</td>\n",
       "      <td>51.0</td>\n",
       "      <td>62.0</td>\n",
       "      <td>94.0</td>\n",
       "    </tr>\n",
       "    <tr>\n",
       "      <th>Aggression</th>\n",
       "      <td>18159.0</td>\n",
       "      <td>55.868991</td>\n",
       "      <td>17.367967</td>\n",
       "      <td>11.0</td>\n",
       "      <td>44.0</td>\n",
       "      <td>59.0</td>\n",
       "      <td>69.0</td>\n",
       "      <td>95.0</td>\n",
       "    </tr>\n",
       "    <tr>\n",
       "      <th>Interceptions</th>\n",
       "      <td>18159.0</td>\n",
       "      <td>46.698276</td>\n",
       "      <td>20.696909</td>\n",
       "      <td>3.0</td>\n",
       "      <td>26.0</td>\n",
       "      <td>52.0</td>\n",
       "      <td>64.0</td>\n",
       "      <td>92.0</td>\n",
       "    </tr>\n",
       "    <tr>\n",
       "      <th>Positioning</th>\n",
       "      <td>18159.0</td>\n",
       "      <td>49.958478</td>\n",
       "      <td>19.529036</td>\n",
       "      <td>2.0</td>\n",
       "      <td>38.0</td>\n",
       "      <td>55.0</td>\n",
       "      <td>64.0</td>\n",
       "      <td>95.0</td>\n",
       "    </tr>\n",
       "    <tr>\n",
       "      <th>Vision</th>\n",
       "      <td>18159.0</td>\n",
       "      <td>53.400903</td>\n",
       "      <td>14.146881</td>\n",
       "      <td>10.0</td>\n",
       "      <td>44.0</td>\n",
       "      <td>55.0</td>\n",
       "      <td>64.0</td>\n",
       "      <td>94.0</td>\n",
       "    </tr>\n",
       "    <tr>\n",
       "      <th>Penalties</th>\n",
       "      <td>18159.0</td>\n",
       "      <td>48.548598</td>\n",
       "      <td>15.704053</td>\n",
       "      <td>5.0</td>\n",
       "      <td>39.0</td>\n",
       "      <td>49.0</td>\n",
       "      <td>60.0</td>\n",
       "      <td>92.0</td>\n",
       "    </tr>\n",
       "    <tr>\n",
       "      <th>Composure</th>\n",
       "      <td>18159.0</td>\n",
       "      <td>58.648274</td>\n",
       "      <td>11.436133</td>\n",
       "      <td>3.0</td>\n",
       "      <td>51.0</td>\n",
       "      <td>60.0</td>\n",
       "      <td>67.0</td>\n",
       "      <td>96.0</td>\n",
       "    </tr>\n",
       "    <tr>\n",
       "      <th>Marking</th>\n",
       "      <td>18159.0</td>\n",
       "      <td>47.281623</td>\n",
       "      <td>19.904397</td>\n",
       "      <td>3.0</td>\n",
       "      <td>30.0</td>\n",
       "      <td>53.0</td>\n",
       "      <td>64.0</td>\n",
       "      <td>94.0</td>\n",
       "    </tr>\n",
       "    <tr>\n",
       "      <th>StandingTackle</th>\n",
       "      <td>18159.0</td>\n",
       "      <td>47.697836</td>\n",
       "      <td>21.664004</td>\n",
       "      <td>2.0</td>\n",
       "      <td>27.0</td>\n",
       "      <td>55.0</td>\n",
       "      <td>66.0</td>\n",
       "      <td>93.0</td>\n",
       "    </tr>\n",
       "    <tr>\n",
       "      <th>SlidingTackle</th>\n",
       "      <td>18159.0</td>\n",
       "      <td>45.661435</td>\n",
       "      <td>21.289135</td>\n",
       "      <td>3.0</td>\n",
       "      <td>24.0</td>\n",
       "      <td>52.0</td>\n",
       "      <td>64.0</td>\n",
       "      <td>91.0</td>\n",
       "    </tr>\n",
       "    <tr>\n",
       "      <th>GKDiving</th>\n",
       "      <td>18159.0</td>\n",
       "      <td>16.616223</td>\n",
       "      <td>17.695349</td>\n",
       "      <td>1.0</td>\n",
       "      <td>8.0</td>\n",
       "      <td>11.0</td>\n",
       "      <td>14.0</td>\n",
       "      <td>90.0</td>\n",
       "    </tr>\n",
       "    <tr>\n",
       "      <th>GKHandling</th>\n",
       "      <td>18159.0</td>\n",
       "      <td>16.391596</td>\n",
       "      <td>16.906900</td>\n",
       "      <td>1.0</td>\n",
       "      <td>8.0</td>\n",
       "      <td>11.0</td>\n",
       "      <td>14.0</td>\n",
       "      <td>92.0</td>\n",
       "    </tr>\n",
       "    <tr>\n",
       "      <th>GKKicking</th>\n",
       "      <td>18159.0</td>\n",
       "      <td>16.232061</td>\n",
       "      <td>16.502864</td>\n",
       "      <td>1.0</td>\n",
       "      <td>8.0</td>\n",
       "      <td>11.0</td>\n",
       "      <td>14.0</td>\n",
       "      <td>91.0</td>\n",
       "    </tr>\n",
       "    <tr>\n",
       "      <th>GKPositioning</th>\n",
       "      <td>18159.0</td>\n",
       "      <td>16.388898</td>\n",
       "      <td>17.034669</td>\n",
       "      <td>1.0</td>\n",
       "      <td>8.0</td>\n",
       "      <td>11.0</td>\n",
       "      <td>14.0</td>\n",
       "      <td>90.0</td>\n",
       "    </tr>\n",
       "    <tr>\n",
       "      <th>GKReflexes</th>\n",
       "      <td>18159.0</td>\n",
       "      <td>16.710887</td>\n",
       "      <td>17.955119</td>\n",
       "      <td>1.0</td>\n",
       "      <td>8.0</td>\n",
       "      <td>11.0</td>\n",
       "      <td>14.0</td>\n",
       "      <td>94.0</td>\n",
       "    </tr>\n",
       "  </tbody>\n",
       "</table>\n",
       "</div>"
      ],
      "text/plain": [
       "                            count           mean           std   min  \\\n",
       "ID                        18207.0  214298.338606  29965.244204  16.0   \n",
       "Age                       18207.0      25.122206      4.669943  16.0   \n",
       "Overall                   18207.0      66.238699      6.908930  46.0   \n",
       "Potential                 18207.0      71.307299      6.136496  48.0   \n",
       "International Reputation  18159.0       1.113222      0.394031   1.0   \n",
       "Weak Foot                 18159.0       2.947299      0.660456   1.0   \n",
       "Skill Moves               18159.0       2.361308      0.756164   1.0   \n",
       "Jersey Number             18147.0      19.546096     15.947765   1.0   \n",
       "Crossing                  18159.0      49.734181     18.364524   5.0   \n",
       "Finishing                 18159.0      45.550911     19.525820   2.0   \n",
       "HeadingAccuracy           18159.0      52.298144     17.379909   4.0   \n",
       "ShortPassing              18159.0      58.686712     14.699495   7.0   \n",
       "Volleys                   18159.0      42.909026     17.694408   4.0   \n",
       "Dribbling                 18159.0      55.371001     18.910371   4.0   \n",
       "Curve                     18159.0      47.170824     18.395264   6.0   \n",
       "FKAccuracy                18159.0      42.863153     17.478763   3.0   \n",
       "LongPassing               18159.0      52.711933     15.327870   9.0   \n",
       "BallControl               18159.0      58.369459     16.686595   5.0   \n",
       "Acceleration              18159.0      64.614076     14.927780  12.0   \n",
       "SprintSpeed               18159.0      64.726967     14.649953  12.0   \n",
       "Agility                   18159.0      63.503607     14.766049  14.0   \n",
       "Reactions                 18159.0      61.836610      9.010464  21.0   \n",
       "Balance                   18159.0      63.966573     14.136166  16.0   \n",
       "ShotPower                 18159.0      55.460047     17.237958   2.0   \n",
       "Jumping                   18159.0      65.089432     11.820044  15.0   \n",
       "Stamina                   18159.0      63.219946     15.894741  12.0   \n",
       "Strength                  18159.0      65.311967     12.557000  17.0   \n",
       "LongShots                 18159.0      47.109973     19.260524   3.0   \n",
       "Aggression                18159.0      55.868991     17.367967  11.0   \n",
       "Interceptions             18159.0      46.698276     20.696909   3.0   \n",
       "Positioning               18159.0      49.958478     19.529036   2.0   \n",
       "Vision                    18159.0      53.400903     14.146881  10.0   \n",
       "Penalties                 18159.0      48.548598     15.704053   5.0   \n",
       "Composure                 18159.0      58.648274     11.436133   3.0   \n",
       "Marking                   18159.0      47.281623     19.904397   3.0   \n",
       "StandingTackle            18159.0      47.697836     21.664004   2.0   \n",
       "SlidingTackle             18159.0      45.661435     21.289135   3.0   \n",
       "GKDiving                  18159.0      16.616223     17.695349   1.0   \n",
       "GKHandling                18159.0      16.391596     16.906900   1.0   \n",
       "GKKicking                 18159.0      16.232061     16.502864   1.0   \n",
       "GKPositioning             18159.0      16.388898     17.034669   1.0   \n",
       "GKReflexes                18159.0      16.710887     17.955119   1.0   \n",
       "\n",
       "                               25%       50%       75%       max  \n",
       "ID                        200315.5  221759.0  236529.5  246620.0  \n",
       "Age                           21.0      25.0      28.0      45.0  \n",
       "Overall                       62.0      66.0      71.0      94.0  \n",
       "Potential                     67.0      71.0      75.0      95.0  \n",
       "International Reputation       1.0       1.0       1.0       5.0  \n",
       "Weak Foot                      3.0       3.0       3.0       5.0  \n",
       "Skill Moves                    2.0       2.0       3.0       5.0  \n",
       "Jersey Number                  8.0      17.0      26.0      99.0  \n",
       "Crossing                      38.0      54.0      64.0      93.0  \n",
       "Finishing                     30.0      49.0      62.0      95.0  \n",
       "HeadingAccuracy               44.0      56.0      64.0      94.0  \n",
       "ShortPassing                  54.0      62.0      68.0      93.0  \n",
       "Volleys                       30.0      44.0      57.0      90.0  \n",
       "Dribbling                     49.0      61.0      68.0      97.0  \n",
       "Curve                         34.0      48.0      62.0      94.0  \n",
       "FKAccuracy                    31.0      41.0      57.0      94.0  \n",
       "LongPassing                   43.0      56.0      64.0      93.0  \n",
       "BallControl                   54.0      63.0      69.0      96.0  \n",
       "Acceleration                  57.0      67.0      75.0      97.0  \n",
       "SprintSpeed                   57.0      67.0      75.0      96.0  \n",
       "Agility                       55.0      66.0      74.0      96.0  \n",
       "Reactions                     56.0      62.0      68.0      96.0  \n",
       "Balance                       56.0      66.0      74.0      96.0  \n",
       "ShotPower                     45.0      59.0      68.0      95.0  \n",
       "Jumping                       58.0      66.0      73.0      95.0  \n",
       "Stamina                       56.0      66.0      74.0      96.0  \n",
       "Strength                      58.0      67.0      74.0      97.0  \n",
       "LongShots                     33.0      51.0      62.0      94.0  \n",
       "Aggression                    44.0      59.0      69.0      95.0  \n",
       "Interceptions                 26.0      52.0      64.0      92.0  \n",
       "Positioning                   38.0      55.0      64.0      95.0  \n",
       "Vision                        44.0      55.0      64.0      94.0  \n",
       "Penalties                     39.0      49.0      60.0      92.0  \n",
       "Composure                     51.0      60.0      67.0      96.0  \n",
       "Marking                       30.0      53.0      64.0      94.0  \n",
       "StandingTackle                27.0      55.0      66.0      93.0  \n",
       "SlidingTackle                 24.0      52.0      64.0      91.0  \n",
       "GKDiving                       8.0      11.0      14.0      90.0  \n",
       "GKHandling                     8.0      11.0      14.0      92.0  \n",
       "GKKicking                      8.0      11.0      14.0      91.0  \n",
       "GKPositioning                  8.0      11.0      14.0      90.0  \n",
       "GKReflexes                     8.0      11.0      14.0      94.0  "
      ]
     },
     "execution_count": 10,
     "metadata": {},
     "output_type": "execute_result"
    }
   ],
   "source": [
    "df.describe().T"
   ]
  },
  {
   "cell_type": "code",
   "execution_count": 11,
   "id": "512b7b6c-584b-4ab9-93c4-0d5b7a6f839c",
   "metadata": {},
   "outputs": [
    {
     "data": {
      "text/html": [
       "<div>\n",
       "<style scoped>\n",
       "    .dataframe tbody tr th:only-of-type {\n",
       "        vertical-align: middle;\n",
       "    }\n",
       "\n",
       "    .dataframe tbody tr th {\n",
       "        vertical-align: top;\n",
       "    }\n",
       "\n",
       "    .dataframe thead th {\n",
       "        text-align: right;\n",
       "    }\n",
       "</style>\n",
       "<table border=\"1\" class=\"dataframe\">\n",
       "  <thead>\n",
       "    <tr style=\"text-align: right;\">\n",
       "      <th></th>\n",
       "      <th>count</th>\n",
       "      <th>unique</th>\n",
       "      <th>top</th>\n",
       "      <th>freq</th>\n",
       "    </tr>\n",
       "  </thead>\n",
       "  <tbody>\n",
       "    <tr>\n",
       "      <th>Name</th>\n",
       "      <td>18207</td>\n",
       "      <td>17194</td>\n",
       "      <td>J. Rodríguez</td>\n",
       "      <td>11</td>\n",
       "    </tr>\n",
       "    <tr>\n",
       "      <th>Photo</th>\n",
       "      <td>18207</td>\n",
       "      <td>18207</td>\n",
       "      <td>https://cdn.sofifa.org/players/4/19/158023.png</td>\n",
       "      <td>1</td>\n",
       "    </tr>\n",
       "    <tr>\n",
       "      <th>Nationality</th>\n",
       "      <td>18207</td>\n",
       "      <td>164</td>\n",
       "      <td>England</td>\n",
       "      <td>1662</td>\n",
       "    </tr>\n",
       "    <tr>\n",
       "      <th>Flag</th>\n",
       "      <td>18207</td>\n",
       "      <td>164</td>\n",
       "      <td>https://cdn.sofifa.org/flags/14.png</td>\n",
       "      <td>1662</td>\n",
       "    </tr>\n",
       "    <tr>\n",
       "      <th>Club</th>\n",
       "      <td>17966</td>\n",
       "      <td>651</td>\n",
       "      <td>FC Barcelona</td>\n",
       "      <td>33</td>\n",
       "    </tr>\n",
       "    <tr>\n",
       "      <th>Club Logo</th>\n",
       "      <td>18207</td>\n",
       "      <td>679</td>\n",
       "      <td>https://cdn.sofifa.org/teams/2/light/241.png</td>\n",
       "      <td>33</td>\n",
       "    </tr>\n",
       "    <tr>\n",
       "      <th>Value</th>\n",
       "      <td>18207</td>\n",
       "      <td>217</td>\n",
       "      <td>€1.1M</td>\n",
       "      <td>431</td>\n",
       "    </tr>\n",
       "    <tr>\n",
       "      <th>Wage</th>\n",
       "      <td>18207</td>\n",
       "      <td>144</td>\n",
       "      <td>€1K</td>\n",
       "      <td>4900</td>\n",
       "    </tr>\n",
       "    <tr>\n",
       "      <th>Preferred Foot</th>\n",
       "      <td>18159</td>\n",
       "      <td>2</td>\n",
       "      <td>Right</td>\n",
       "      <td>13948</td>\n",
       "    </tr>\n",
       "    <tr>\n",
       "      <th>Work Rate</th>\n",
       "      <td>18159</td>\n",
       "      <td>9</td>\n",
       "      <td>Medium/ Medium</td>\n",
       "      <td>9810</td>\n",
       "    </tr>\n",
       "    <tr>\n",
       "      <th>Body Type</th>\n",
       "      <td>18159</td>\n",
       "      <td>10</td>\n",
       "      <td>Normal</td>\n",
       "      <td>10595</td>\n",
       "    </tr>\n",
       "    <tr>\n",
       "      <th>Position</th>\n",
       "      <td>18147</td>\n",
       "      <td>27</td>\n",
       "      <td>ST</td>\n",
       "      <td>2152</td>\n",
       "    </tr>\n",
       "    <tr>\n",
       "      <th>Joined</th>\n",
       "      <td>16654</td>\n",
       "      <td>1736</td>\n",
       "      <td>Jul 1, 2018</td>\n",
       "      <td>1538</td>\n",
       "    </tr>\n",
       "    <tr>\n",
       "      <th>Loaned From</th>\n",
       "      <td>1264</td>\n",
       "      <td>341</td>\n",
       "      <td>Atalanta</td>\n",
       "      <td>20</td>\n",
       "    </tr>\n",
       "    <tr>\n",
       "      <th>Contract Valid Until</th>\n",
       "      <td>17918</td>\n",
       "      <td>36</td>\n",
       "      <td>2019</td>\n",
       "      <td>4819</td>\n",
       "    </tr>\n",
       "    <tr>\n",
       "      <th>Height</th>\n",
       "      <td>18159</td>\n",
       "      <td>21</td>\n",
       "      <td>6'0</td>\n",
       "      <td>2881</td>\n",
       "    </tr>\n",
       "    <tr>\n",
       "      <th>Weight</th>\n",
       "      <td>18159</td>\n",
       "      <td>57</td>\n",
       "      <td>165lbs</td>\n",
       "      <td>1483</td>\n",
       "    </tr>\n",
       "    <tr>\n",
       "      <th>Release Clause</th>\n",
       "      <td>16643</td>\n",
       "      <td>1244</td>\n",
       "      <td>€1.1M</td>\n",
       "      <td>557</td>\n",
       "    </tr>\n",
       "  </tbody>\n",
       "</table>\n",
       "</div>"
      ],
      "text/plain": [
       "                      count unique  \\\n",
       "Name                  18207  17194   \n",
       "Photo                 18207  18207   \n",
       "Nationality           18207    164   \n",
       "Flag                  18207    164   \n",
       "Club                  17966    651   \n",
       "Club Logo             18207    679   \n",
       "Value                 18207    217   \n",
       "Wage                  18207    144   \n",
       "Preferred Foot        18159      2   \n",
       "Work Rate             18159      9   \n",
       "Body Type             18159     10   \n",
       "Position              18147     27   \n",
       "Joined                16654   1736   \n",
       "Loaned From            1264    341   \n",
       "Contract Valid Until  17918     36   \n",
       "Height                18159     21   \n",
       "Weight                18159     57   \n",
       "Release Clause        16643   1244   \n",
       "\n",
       "                                                                 top   freq  \n",
       "Name                                                    J. Rodríguez     11  \n",
       "Photo                 https://cdn.sofifa.org/players/4/19/158023.png      1  \n",
       "Nationality                                                  England   1662  \n",
       "Flag                             https://cdn.sofifa.org/flags/14.png   1662  \n",
       "Club                                                    FC Barcelona     33  \n",
       "Club Logo               https://cdn.sofifa.org/teams/2/light/241.png     33  \n",
       "Value                                                          €1.1M    431  \n",
       "Wage                                                             €1K   4900  \n",
       "Preferred Foot                                                 Right  13948  \n",
       "Work Rate                                             Medium/ Medium   9810  \n",
       "Body Type                                                     Normal  10595  \n",
       "Position                                                          ST   2152  \n",
       "Joined                                                   Jul 1, 2018   1538  \n",
       "Loaned From                                                 Atalanta     20  \n",
       "Contract Valid Until                                            2019   4819  \n",
       "Height                                                           6'0   2881  \n",
       "Weight                                                        165lbs   1483  \n",
       "Release Clause                                                 €1.1M    557  "
      ]
     },
     "execution_count": 11,
     "metadata": {},
     "output_type": "execute_result"
    }
   ],
   "source": [
    "df.describe(include = 'O').T"
   ]
  },
  {
   "cell_type": "markdown",
   "id": "b10e7f43-398d-4902-9435-eced082dfa1b",
   "metadata": {},
   "source": [
    "### 3. Drop the columns which you think redundant for the analysis. (1 point) \n",
    "- [Hint: columns like 'Photo','Flag','Club Logo']"
   ]
  },
  {
   "cell_type": "code",
   "execution_count": 13,
   "id": "f4d9a2cd-b880-44b3-9b3f-c9b8d9b54f6e",
   "metadata": {},
   "outputs": [],
   "source": [
    "df.drop(['Photo', 'Flag', 'Club Logo'], inplace = True, axis = 1)"
   ]
  },
  {
   "cell_type": "code",
   "execution_count": 14,
   "id": "2fd2c041-30b1-415c-90eb-fa75450deb6e",
   "metadata": {},
   "outputs": [
    {
     "data": {
      "text/plain": [
       "(18207, 57)"
      ]
     },
     "execution_count": 14,
     "metadata": {},
     "output_type": "execute_result"
    }
   ],
   "source": [
    "df.shape"
   ]
  },
  {
   "cell_type": "code",
   "execution_count": 15,
   "id": "9d6aa38e-01dd-400d-93cc-e89ce77c8b01",
   "metadata": {},
   "outputs": [
    {
     "data": {
      "text/plain": [
       "0"
      ]
     },
     "execution_count": 15,
     "metadata": {},
     "output_type": "execute_result"
    }
   ],
   "source": [
    "df.duplicated().sum()"
   ]
  },
  {
   "cell_type": "markdown",
   "id": "b60dfa48-1b10-470e-a21b-b0a98b6e8600",
   "metadata": {},
   "source": [
    "## Data Cleaning and Preprocessing (18 points)"
   ]
  },
  {
   "cell_type": "markdown",
   "id": "4c1954cb-6e2c-4044-ae8d-ab49169ba0ad",
   "metadata": {},
   "source": [
    "### 4. Convert the columns \"Value\", \"Wage\", \"Release Clause\" to float datatype after getting rid of currency symbol and suffix. (6 points) \n",
    "- Note: When the record/entry has \"M\"(indicates millions) as suffix you need to multiply that value with 1000000 - When the record/entry has \"K\"(indicates thousands) as suffix you need to multiply that value with 1000"
   ]
  },
  {
   "cell_type": "code",
   "execution_count": 18,
   "id": "75e10bba-0843-4eae-9fd9-e943cf07d5fc",
   "metadata": {},
   "outputs": [],
   "source": [
    "col_to_process = ['Value', 'Wage', 'Release Clause'] \n",
    "\n",
    "def convert_value(col):\n",
    "    df[col] = df[col].astype(str)\n",
    "    df[col] = df[col].str.replace('€', '')\n",
    "    df[col] = df[col].replace({'M': 'e6', 'B': 'e9', 'K': 'e3'}, regex=True).astype(float)\n",
    "\n",
    "for col in col_to_process:\n",
    "    convert_value(col)"
   ]
  },
  {
   "cell_type": "code",
   "execution_count": 19,
   "id": "d50c6320-6080-4af0-8752-a1d9d6a67761",
   "metadata": {},
   "outputs": [
    {
     "data": {
      "text/html": [
       "<div>\n",
       "<style scoped>\n",
       "    .dataframe tbody tr th:only-of-type {\n",
       "        vertical-align: middle;\n",
       "    }\n",
       "\n",
       "    .dataframe tbody tr th {\n",
       "        vertical-align: top;\n",
       "    }\n",
       "\n",
       "    .dataframe thead th {\n",
       "        text-align: right;\n",
       "    }\n",
       "</style>\n",
       "<table border=\"1\" class=\"dataframe\">\n",
       "  <thead>\n",
       "    <tr style=\"text-align: right;\">\n",
       "      <th></th>\n",
       "      <th>Value</th>\n",
       "      <th>Wage</th>\n",
       "      <th>Release Clause</th>\n",
       "    </tr>\n",
       "  </thead>\n",
       "  <tbody>\n",
       "    <tr>\n",
       "      <th>0</th>\n",
       "      <td>110500000.0</td>\n",
       "      <td>565000.0</td>\n",
       "      <td>226500000.0</td>\n",
       "    </tr>\n",
       "    <tr>\n",
       "      <th>1</th>\n",
       "      <td>77000000.0</td>\n",
       "      <td>405000.0</td>\n",
       "      <td>127100000.0</td>\n",
       "    </tr>\n",
       "    <tr>\n",
       "      <th>2</th>\n",
       "      <td>118500000.0</td>\n",
       "      <td>290000.0</td>\n",
       "      <td>228100000.0</td>\n",
       "    </tr>\n",
       "    <tr>\n",
       "      <th>3</th>\n",
       "      <td>72000000.0</td>\n",
       "      <td>260000.0</td>\n",
       "      <td>138600000.0</td>\n",
       "    </tr>\n",
       "    <tr>\n",
       "      <th>4</th>\n",
       "      <td>102000000.0</td>\n",
       "      <td>355000.0</td>\n",
       "      <td>196400000.0</td>\n",
       "    </tr>\n",
       "  </tbody>\n",
       "</table>\n",
       "</div>"
      ],
      "text/plain": [
       "         Value      Wage  Release Clause\n",
       "0  110500000.0  565000.0     226500000.0\n",
       "1   77000000.0  405000.0     127100000.0\n",
       "2  118500000.0  290000.0     228100000.0\n",
       "3   72000000.0  260000.0     138600000.0\n",
       "4  102000000.0  355000.0     196400000.0"
      ]
     },
     "execution_count": 19,
     "metadata": {},
     "output_type": "execute_result"
    }
   ],
   "source": [
    "df[col_to_process].head()"
   ]
  },
  {
   "cell_type": "markdown",
   "id": "46a8091d-f199-4b2e-bf50-d97de5963a2e",
   "metadata": {},
   "source": [
    "### 5. Convert the column \"Joined\" into integer data type with keeping only the year. (2 points)"
   ]
  },
  {
   "cell_type": "code",
   "execution_count": 21,
   "id": "414e0607-f3ce-42f0-bab1-03d7b3e37cfb",
   "metadata": {},
   "outputs": [
    {
     "data": {
      "text/plain": [
       "28       NaN\n",
       "38       NaN\n",
       "91       NaN\n",
       "166      NaN\n",
       "176      NaN\n",
       "        ... \n",
       "17978    NaN\n",
       "17979    NaN\n",
       "18026    NaN\n",
       "18031    NaN\n",
       "18056    NaN\n",
       "Name: Joined, Length: 1553, dtype: object"
      ]
     },
     "execution_count": 21,
     "metadata": {},
     "output_type": "execute_result"
    }
   ],
   "source": [
    "df[df['Joined'].isnull()].Joined"
   ]
  },
  {
   "cell_type": "code",
   "execution_count": 22,
   "id": "921580b7-b74c-4448-8d20-c3ddaa189fd0",
   "metadata": {},
   "outputs": [
    {
     "data": {
      "text/plain": [
       "28       Jun 30, 2019\n",
       "38       Jun 30, 2019\n",
       "91       Jun 30, 2019\n",
       "166      Dec 31, 2018\n",
       "176      Jun 30, 2019\n",
       "             ...     \n",
       "17978    Jun 30, 2019\n",
       "17979    Dec 31, 2018\n",
       "18026    Dec 31, 2018\n",
       "18031    Dec 31, 2018\n",
       "18056    Jun 30, 2019\n",
       "Name: Contract Valid Until, Length: 1553, dtype: object"
      ]
     },
     "execution_count": 22,
     "metadata": {},
     "output_type": "execute_result"
    }
   ],
   "source": [
    "df[df['Contract Valid Until'].str.match(r'^[A-Za-z]{3} \\d{1,2}, \\d{4}$', na=True)]['Contract Valid Until']"
   ]
  },
  {
   "cell_type": "code",
   "execution_count": 23,
   "id": "984f2552-17d8-4daa-bb63-c0bf275ee4d9",
   "metadata": {},
   "outputs": [
    {
     "data": {
      "text/plain": [
       "1553"
      ]
     },
     "execution_count": 23,
     "metadata": {},
     "output_type": "execute_result"
    }
   ],
   "source": [
    "len(df[df['Joined'].isnull()]['Joined'])"
   ]
  },
  {
   "cell_type": "code",
   "execution_count": 24,
   "id": "ad2be9fb-521e-4355-ad3c-db86f8f51876",
   "metadata": {},
   "outputs": [
    {
     "data": {
      "text/plain": [
       "1553"
      ]
     },
     "execution_count": 24,
     "metadata": {},
     "output_type": "execute_result"
    }
   ],
   "source": [
    "complete_dates = df[df['Contract Valid Until'].str.match(r'^[A-Za-z]{3} \\d{1,2}, \\d{4}$', na=True)]\n",
    "len(complete_dates['Contract Valid Until'])"
   ]
  },
  {
   "cell_type": "code",
   "execution_count": 25,
   "id": "3d9fa46b-b693-4cc9-8caf-ff54e656a3e6",
   "metadata": {},
   "outputs": [],
   "source": [
    "df.loc[df['Joined'].isnull(), 'Joined'] = complete_dates['Contract Valid Until']"
   ]
  },
  {
   "cell_type": "code",
   "execution_count": 26,
   "id": "fcd055be-8c55-472e-94ec-3053e9490e3b",
   "metadata": {},
   "outputs": [
    {
     "data": {
      "text/plain": [
       "289"
      ]
     },
     "execution_count": 26,
     "metadata": {},
     "output_type": "execute_result"
    }
   ],
   "source": [
    "df['Joined'].isnull().sum()"
   ]
  },
  {
   "cell_type": "code",
   "execution_count": 27,
   "id": "a3530600-0e8b-4b2b-a2b5-6495c2e20df4",
   "metadata": {},
   "outputs": [
    {
     "data": {
      "text/plain": [
       "Joined\n",
       "False    98.412698\n",
       "True      1.587302\n",
       "Name: proportion, dtype: float64"
      ]
     },
     "execution_count": 27,
     "metadata": {},
     "output_type": "execute_result"
    }
   ],
   "source": [
    "(df['Joined'].isna().value_counts(normalize=True)*100)"
   ]
  },
  {
   "cell_type": "code",
   "execution_count": 28,
   "id": "1a5a17d2-16c6-48ef-9043-d4d160f3c313",
   "metadata": {},
   "outputs": [
    {
     "data": {
      "text/plain": [
       "1.5873015873015872"
      ]
     },
     "execution_count": 28,
     "metadata": {},
     "output_type": "execute_result"
    }
   ],
   "source": [
    "df['Joined'].isna().sum()/len(df)*100"
   ]
  },
  {
   "cell_type": "code",
   "execution_count": 29,
   "id": "9a316366-e2cb-4f7a-bd45-b4292d12f19a",
   "metadata": {},
   "outputs": [],
   "source": [
    "df['Joined'].fillna(df['Joined'].mode()[0], inplace = True)"
   ]
  },
  {
   "cell_type": "code",
   "execution_count": 30,
   "id": "05b6de88-913d-4069-ae37-a287caf6deec",
   "metadata": {},
   "outputs": [
    {
     "data": {
      "text/plain": [
       "0"
      ]
     },
     "execution_count": 30,
     "metadata": {},
     "output_type": "execute_result"
    }
   ],
   "source": [
    "df['Joined'].isna().sum()"
   ]
  },
  {
   "cell_type": "code",
   "execution_count": 31,
   "id": "61853b4d-2561-4a73-91fc-bdd28b4201b5",
   "metadata": {},
   "outputs": [],
   "source": [
    "df['Joined'] = df['Joined'].str[-4:].astype(int)"
   ]
  },
  {
   "cell_type": "code",
   "execution_count": 32,
   "id": "85d6469e-964b-4231-8cc9-f27b3d59c686",
   "metadata": {},
   "outputs": [
    {
     "data": {
      "text/plain": [
       "0        2004\n",
       "1        2018\n",
       "2        2017\n",
       "3        2011\n",
       "4        2015\n",
       "         ... \n",
       "18202    2017\n",
       "18203    2018\n",
       "18204    2017\n",
       "18205    2018\n",
       "18206    2018\n",
       "Name: Joined, Length: 18207, dtype: int32"
      ]
     },
     "execution_count": 32,
     "metadata": {},
     "output_type": "execute_result"
    }
   ],
   "source": [
    "df['Joined']"
   ]
  },
  {
   "cell_type": "markdown",
   "id": "b31de50b-d0c7-4e6d-ab0e-038e5db099f4",
   "metadata": {},
   "source": [
    "###  6. Convert the column \"Contract Valid Until\" to pandas datetime type. (2 points)"
   ]
  },
  {
   "cell_type": "code",
   "execution_count": 34,
   "id": "58fed7aa-16f0-433d-a052-b04cfe67ac72",
   "metadata": {},
   "outputs": [
    {
     "data": {
      "text/plain": [
       "array(['2021', '2022', '2020', '2023', '2019', '2024', 'Jun 30, 2019',\n",
       "       '2025', '2026', 'Dec 31, 2018', '2018', nan, 'May 31, 2020',\n",
       "       'Jun 30, 2020', 'May 31, 2019', 'Dec 31, 2019', 'Jan 1, 2019',\n",
       "       'Jun 1, 2019', 'Jan 4, 2019', 'Jan 31, 2019', 'Jan 7, 2019',\n",
       "       'Jan 2, 2019', 'Jan 6, 2019', 'Oct 14, 2019', 'Jan 3, 2019',\n",
       "       'May 4, 2019', 'Jan 12, 2019', 'Jan 25, 2019', 'Jan 18, 2019',\n",
       "       'Dec 1, 2019', 'Nov 30, 2018', 'Feb 27, 2020', 'Jan 5, 2019',\n",
       "       'Jan 15, 2019', 'Jan 30, 2019', 'Jan 11, 2019', 'Jan 20, 2019'],\n",
       "      dtype=object)"
      ]
     },
     "execution_count": 34,
     "metadata": {},
     "output_type": "execute_result"
    }
   ],
   "source": [
    "# df['Contract Valid Until'].astype()\n",
    "# pd.to_datetime(df['Contract Valid Until'])\n",
    "df['Contract Valid Until'].unique()"
   ]
  },
  {
   "cell_type": "code",
   "execution_count": 35,
   "id": "f1e5fe98-6108-4039-a860-050dcc0e131d",
   "metadata": {},
   "outputs": [],
   "source": [
    "# complete_dates = df[df['Contract Valid Until'].str.match(r'^[A-Za-z]{3} \\d{1,2}, \\d{4}$', na=True)]"
   ]
  },
  {
   "cell_type": "code",
   "execution_count": 36,
   "id": "df113f59-f20d-4eec-a162-663c88fcd742",
   "metadata": {},
   "outputs": [
    {
     "data": {
      "text/plain": [
       "289"
      ]
     },
     "execution_count": 36,
     "metadata": {},
     "output_type": "execute_result"
    }
   ],
   "source": [
    "df['Contract Valid Until'].isnull().sum()"
   ]
  },
  {
   "cell_type": "code",
   "execution_count": 37,
   "id": "d1c57d8b-b6e4-45e9-9816-71649e25d347",
   "metadata": {},
   "outputs": [],
   "source": [
    "df.loc[df['Contract Valid Until'].str.match(r'^[A-Za-z]{3} \\d{1,2}, \\d{4}$', na=False), 'Contract Valid Until'] = np.nan"
   ]
  },
  {
   "cell_type": "code",
   "execution_count": 38,
   "id": "c2d29cd5-4511-44ba-b728-4aa70ca8a06d",
   "metadata": {},
   "outputs": [
    {
     "data": {
      "text/plain": [
       "1553"
      ]
     },
     "execution_count": 38,
     "metadata": {},
     "output_type": "execute_result"
    }
   ],
   "source": [
    "df['Contract Valid Until'].isnull().sum()"
   ]
  },
  {
   "cell_type": "code",
   "execution_count": 39,
   "id": "b1be6dc0-f48c-4bbb-acda-4f4bb934fb60",
   "metadata": {},
   "outputs": [
    {
     "data": {
      "text/plain": [
       "8.529686384357664"
      ]
     },
     "execution_count": 39,
     "metadata": {},
     "output_type": "execute_result"
    }
   ],
   "source": [
    "df['Contract Valid Until'].isnull().sum()/len(df)*100"
   ]
  },
  {
   "cell_type": "code",
   "execution_count": 40,
   "id": "344e9513-ee6c-4467-be72-eea922d5f9d6",
   "metadata": {},
   "outputs": [
    {
     "data": {
      "text/plain": [
       "dtype('O')"
      ]
     },
     "execution_count": 40,
     "metadata": {},
     "output_type": "execute_result"
    }
   ],
   "source": [
    "df['Contract Valid Until'].dtype"
   ]
  },
  {
   "cell_type": "code",
   "execution_count": 41,
   "id": "7a86b3d0-7c18-49a0-90fc-74561781c5b9",
   "metadata": {},
   "outputs": [
    {
     "data": {
      "text/plain": [
       "0    2019\n",
       "Name: Contract Valid Until, dtype: object"
      ]
     },
     "execution_count": 41,
     "metadata": {},
     "output_type": "execute_result"
    }
   ],
   "source": [
    "df['Contract Valid Until'].mode()"
   ]
  },
  {
   "cell_type": "code",
   "execution_count": 42,
   "id": "c7381f01-37b2-469e-9f5e-f4d72767cd0c",
   "metadata": {},
   "outputs": [],
   "source": [
    "df['Contract Valid Until'].fillna(df['Contract Valid Until'].mode()[0], inplace = True)"
   ]
  },
  {
   "cell_type": "code",
   "execution_count": 43,
   "id": "c6907f60-6e23-4567-b6c9-5efca9d60fbe",
   "metadata": {},
   "outputs": [
    {
     "data": {
      "text/plain": [
       "0"
      ]
     },
     "execution_count": 43,
     "metadata": {},
     "output_type": "execute_result"
    }
   ],
   "source": [
    "df['Contract Valid Until'].isnull().sum()"
   ]
  },
  {
   "cell_type": "code",
   "execution_count": 78,
   "id": "211b8372-2d20-4516-ba1d-c1e154b09e64",
   "metadata": {},
   "outputs": [],
   "source": [
    "df['Contract Valid Until'] = pd.to_datetime(df['Contract Valid Until'], errors='coerce', dayfirst=True)"
   ]
  },
  {
   "cell_type": "code",
   "execution_count": 80,
   "id": "6e4d857e-fba3-4ae6-a84b-94c252c646a4",
   "metadata": {},
   "outputs": [
    {
     "data": {
      "text/plain": [
       "<DatetimeArray>\n",
       "['2021-01-01 00:00:00', '2022-01-01 00:00:00', '2020-01-01 00:00:00',\n",
       " '2023-01-01 00:00:00', '2019-01-01 00:00:00', '2024-01-01 00:00:00',\n",
       " '2025-01-01 00:00:00', '2026-01-01 00:00:00', '2018-01-01 00:00:00']\n",
       "Length: 9, dtype: datetime64[ns]"
      ]
     },
     "execution_count": 80,
     "metadata": {},
     "output_type": "execute_result"
    }
   ],
   "source": [
    "df['Contract Valid Until'].unique()"
   ]
  },
  {
   "cell_type": "code",
   "execution_count": 82,
   "id": "665e0dd5-cf16-4499-b991-36f8a19839f7",
   "metadata": {},
   "outputs": [
    {
     "data": {
      "text/plain": [
       "dtype('<M8[ns]')"
      ]
     },
     "execution_count": 82,
     "metadata": {},
     "output_type": "execute_result"
    }
   ],
   "source": [
    "df['Contract Valid Until'].dtype"
   ]
  },
  {
   "cell_type": "markdown",
   "id": "118cbf54-24c6-4457-a9ab-286a549590a4",
   "metadata": {},
   "source": [
    "### 7. The column 'Height' is in inches with a quotation mark, Convert to float with decimal points. (2 points)"
   ]
  },
  {
   "cell_type": "code",
   "execution_count": 84,
   "id": "04e632f8-6635-49fc-8aaf-71758c8ec6e1",
   "metadata": {},
   "outputs": [
    {
     "data": {
      "text/plain": [
       "0     5'7\n",
       "1     6'2\n",
       "2     5'9\n",
       "3     6'4\n",
       "4    5'11\n",
       "Name: Height, dtype: object"
      ]
     },
     "execution_count": 84,
     "metadata": {},
     "output_type": "execute_result"
    }
   ],
   "source": [
    "df['Height'].head()"
   ]
  },
  {
   "cell_type": "code",
   "execution_count": 86,
   "id": "56adcc18-8463-465b-9eab-9476e8e37859",
   "metadata": {},
   "outputs": [],
   "source": [
    "df['Height'] = df['Height'].str.replace(\"'\", \".\").astype(float)"
   ]
  },
  {
   "cell_type": "code",
   "execution_count": 88,
   "id": "f606df90-ba47-460e-aabd-0654832a98e2",
   "metadata": {},
   "outputs": [
    {
     "data": {
      "text/plain": [
       "0    5.70\n",
       "1    6.20\n",
       "2    5.90\n",
       "3    6.40\n",
       "4    5.11\n",
       "Name: Height, dtype: float64"
      ]
     },
     "execution_count": 88,
     "metadata": {},
     "output_type": "execute_result"
    }
   ],
   "source": [
    "df['Height'].head()"
   ]
  },
  {
   "cell_type": "markdown",
   "id": "c55ee260-e5fe-4bca-9fb8-e1443b9a8d42",
   "metadata": {},
   "source": [
    "### 8. The column \"Weight\" has the suffix as lbs, remove the suffix and convert to float. (2 points)"
   ]
  },
  {
   "cell_type": "code",
   "execution_count": 90,
   "id": "295b01b3-d2b1-4f2d-bd43-3f67879c6df9",
   "metadata": {},
   "outputs": [
    {
     "data": {
      "text/plain": [
       "0    159lbs\n",
       "1    183lbs\n",
       "2    150lbs\n",
       "3    168lbs\n",
       "4    154lbs\n",
       "Name: Weight, dtype: object"
      ]
     },
     "execution_count": 90,
     "metadata": {},
     "output_type": "execute_result"
    }
   ],
   "source": [
    "df['Weight'].head()"
   ]
  },
  {
   "cell_type": "code",
   "execution_count": 92,
   "id": "098dcdf7-020c-4583-9b07-7c4615ccb433",
   "metadata": {},
   "outputs": [],
   "source": [
    "df['Weight'] = df['Weight'].str.replace('lbs', '').astype(float)"
   ]
  },
  {
   "cell_type": "code",
   "execution_count": 94,
   "id": "9027a758-6753-4152-83ad-bf507ab07fcb",
   "metadata": {},
   "outputs": [
    {
     "data": {
      "text/plain": [
       "0    159.0\n",
       "1    183.0\n",
       "2    150.0\n",
       "3    168.0\n",
       "4    154.0\n",
       "Name: Weight, dtype: float64"
      ]
     },
     "execution_count": 94,
     "metadata": {},
     "output_type": "execute_result"
    }
   ],
   "source": [
    "df['Weight'].head()"
   ]
  },
  {
   "cell_type": "markdown",
   "id": "e7433ade-2499-4c92-815e-49474bf04617",
   "metadata": {},
   "source": [
    "### 9. Check for the percentage of missing values and impute them with appropriate imputation techniques. (4 points)"
   ]
  },
  {
   "cell_type": "code",
   "execution_count": 96,
   "id": "d97131a3-18d3-4f90-bf67-1d0fa6fd1e8a",
   "metadata": {},
   "outputs": [
    {
     "data": {
      "text/plain": [
       "ID                           0.000000\n",
       "Name                         0.000000\n",
       "Age                          0.000000\n",
       "Nationality                  0.000000\n",
       "Overall                      0.000000\n",
       "Potential                    0.000000\n",
       "Club                         1.323667\n",
       "Value                        0.000000\n",
       "Wage                         0.000000\n",
       "Preferred Foot               0.263635\n",
       "International Reputation     0.263635\n",
       "Weak Foot                    0.263635\n",
       "Skill Moves                  0.263635\n",
       "Work Rate                    0.263635\n",
       "Body Type                    0.263635\n",
       "Position                     0.329544\n",
       "Jersey Number                0.329544\n",
       "Joined                       0.000000\n",
       "Loaned From                 93.057615\n",
       "Contract Valid Until         0.000000\n",
       "Height                       0.263635\n",
       "Weight                       0.263635\n",
       "Crossing                     0.263635\n",
       "Finishing                    0.263635\n",
       "HeadingAccuracy              0.263635\n",
       "ShortPassing                 0.263635\n",
       "Volleys                      0.263635\n",
       "Dribbling                    0.263635\n",
       "Curve                        0.263635\n",
       "FKAccuracy                   0.263635\n",
       "LongPassing                  0.263635\n",
       "BallControl                  0.263635\n",
       "Acceleration                 0.263635\n",
       "SprintSpeed                  0.263635\n",
       "Agility                      0.263635\n",
       "Reactions                    0.263635\n",
       "Balance                      0.263635\n",
       "ShotPower                    0.263635\n",
       "Jumping                      0.263635\n",
       "Stamina                      0.263635\n",
       "Strength                     0.263635\n",
       "LongShots                    0.263635\n",
       "Aggression                   0.263635\n",
       "Interceptions                0.263635\n",
       "Positioning                  0.263635\n",
       "Vision                       0.263635\n",
       "Penalties                    0.263635\n",
       "Composure                    0.263635\n",
       "Marking                      0.263635\n",
       "StandingTackle               0.263635\n",
       "SlidingTackle                0.263635\n",
       "GKDiving                     0.263635\n",
       "GKHandling                   0.263635\n",
       "GKKicking                    0.263635\n",
       "GKPositioning                0.263635\n",
       "GKReflexes                   0.263635\n",
       "Release Clause               8.590103\n",
       "dtype: float64"
      ]
     },
     "execution_count": 96,
     "metadata": {},
     "output_type": "execute_result"
    }
   ],
   "source": [
    "df.isnull().sum()/len(df)*100"
   ]
  },
  {
   "cell_type": "code",
   "execution_count": 98,
   "id": "8f0b1007-7005-49e3-8b08-55da0bb7646c",
   "metadata": {},
   "outputs": [
    {
     "data": {
      "text/html": [
       "<div>\n",
       "<style scoped>\n",
       "    .dataframe tbody tr th:only-of-type {\n",
       "        vertical-align: middle;\n",
       "    }\n",
       "\n",
       "    .dataframe tbody tr th {\n",
       "        vertical-align: top;\n",
       "    }\n",
       "\n",
       "    .dataframe thead th {\n",
       "        text-align: right;\n",
       "    }\n",
       "</style>\n",
       "<table border=\"1\" class=\"dataframe\">\n",
       "  <thead>\n",
       "    <tr style=\"text-align: right;\">\n",
       "      <th></th>\n",
       "      <th>count</th>\n",
       "      <th>mean</th>\n",
       "      <th>std</th>\n",
       "      <th>min</th>\n",
       "      <th>25%</th>\n",
       "      <th>50%</th>\n",
       "      <th>75%</th>\n",
       "      <th>max</th>\n",
       "    </tr>\n",
       "  </thead>\n",
       "  <tbody>\n",
       "    <tr>\n",
       "      <th>Height</th>\n",
       "      <td>18159.0</td>\n",
       "      <td>5.797367e+00</td>\n",
       "      <td>4.482323e-01</td>\n",
       "      <td>5.1</td>\n",
       "      <td>5.11</td>\n",
       "      <td>5.9</td>\n",
       "      <td>6.1</td>\n",
       "      <td>6.9</td>\n",
       "    </tr>\n",
       "    <tr>\n",
       "      <th>Weight</th>\n",
       "      <td>18159.0</td>\n",
       "      <td>1.659791e+02</td>\n",
       "      <td>1.559334e+01</td>\n",
       "      <td>110.0</td>\n",
       "      <td>154.00</td>\n",
       "      <td>165.0</td>\n",
       "      <td>176.0</td>\n",
       "      <td>243.0</td>\n",
       "    </tr>\n",
       "    <tr>\n",
       "      <th>Release Clause</th>\n",
       "      <td>16643.0</td>\n",
       "      <td>4.585061e+06</td>\n",
       "      <td>1.111872e+07</td>\n",
       "      <td>13000.0</td>\n",
       "      <td>525000.00</td>\n",
       "      <td>1100000.0</td>\n",
       "      <td>3500000.0</td>\n",
       "      <td>228100000.0</td>\n",
       "    </tr>\n",
       "  </tbody>\n",
       "</table>\n",
       "</div>"
      ],
      "text/plain": [
       "                  count          mean           std      min        25%  \\\n",
       "Height          18159.0  5.797367e+00  4.482323e-01      5.1       5.11   \n",
       "Weight          18159.0  1.659791e+02  1.559334e+01    110.0     154.00   \n",
       "Release Clause  16643.0  4.585061e+06  1.111872e+07  13000.0  525000.00   \n",
       "\n",
       "                      50%        75%          max  \n",
       "Height                5.9        6.1          6.9  \n",
       "Weight              165.0      176.0        243.0  \n",
       "Release Clause  1100000.0  3500000.0  228100000.0  "
      ]
     },
     "execution_count": 98,
     "metadata": {},
     "output_type": "execute_result"
    }
   ],
   "source": [
    "df[['Height', 'Weight', 'Release Clause']].describe().T"
   ]
  },
  {
   "cell_type": "markdown",
   "id": "d2b6ce52-656d-4ff7-9cf1-1f462584111e",
   "metadata": {},
   "source": [
    "##### Column with non-numeric value"
   ]
  },
  {
   "cell_type": "code",
   "execution_count": 100,
   "id": "c1a4fb27-9e6b-408c-a07a-6f3149d0fb93",
   "metadata": {},
   "outputs": [],
   "source": [
    "cols_to_fillna = ['Club', 'Preferred Foot', 'Weak Foot','Work Rate', 'Body Type','Position']\n",
    "\n",
    "for col in cols_to_fillna:\n",
    "    df[col].fillna(df[col].mode()[0], inplace=True)\n",
    "    \n",
    "# df['Club'].fillna(df['Club'].mode()[0], inplace = True)\n",
    "# df['Preferred Foot'].fillna(df['Preferred Foot'].mode()[0], inplace = True)\n",
    "# df['Weak Foot'].fillna(df['Weak Foot'].mode()[0], inplace = True)\n",
    "# df['Work Rate'].fillna(df['Work Rate'].mode()[0], inplace = True)\n",
    "# df['Body Type'].fillna(df['Body Type'].mode()[0], inplace = True)\n",
    "# df['Position'].fillna(df['Position'].mode()[0], inplace = True)"
   ]
  },
  {
   "cell_type": "code",
   "execution_count": 110,
   "id": "8a10f7d0-8e34-434d-a0aa-542fe58256e1",
   "metadata": {},
   "outputs": [],
   "source": [
    "cols_to_fillna = ['International Reputation','Skill Moves','Jersey Number','Height','Weight'\n",
    ",'Crossing','Finishing','HeadingAccuracy','ShortPassing','Volleys','Dribbling','Curve','FKAccuracy','LongPassing','BallControl','Acceleration','SprintSpeed'\n",
    ",'Agility','Reactions','Balance','ShotPower','Jumping','Stamina','Strength','LongShots','Aggression','Interceptions','Positioning','Vision','Penalties','Composure','Marking'\n",
    ",'StandingTackle','SlidingTackle','GKDiving','GKHandling','GKKicking','GKPositioning','GKReflexes', 'Release Clause']\n",
    "\n",
    "for col in cols_to_fillna:\n",
    "    df[col].fillna(df[col].median(), inplace=True)"
   ]
  },
  {
   "cell_type": "code",
   "execution_count": 112,
   "id": "6c34e55c-087a-4d94-a971-23d9edb0fc3a",
   "metadata": {},
   "outputs": [
    {
     "ename": "KeyError",
     "evalue": "\"['Loaned From'] not found in axis\"",
     "output_type": "error",
     "traceback": [
      "\u001b[1;31m---------------------------------------------------------------------------\u001b[0m",
      "\u001b[1;31mKeyError\u001b[0m                                  Traceback (most recent call last)",
      "Cell \u001b[1;32mIn[112], line 1\u001b[0m\n\u001b[1;32m----> 1\u001b[0m df\u001b[38;5;241m.\u001b[39mdrop(\u001b[38;5;124m'\u001b[39m\u001b[38;5;124mLoaned From\u001b[39m\u001b[38;5;124m'\u001b[39m, axis \u001b[38;5;241m=\u001b[39m \u001b[38;5;241m1\u001b[39m, inplace \u001b[38;5;241m=\u001b[39m \u001b[38;5;28;01mTrue\u001b[39;00m)\n",
      "File \u001b[1;32m~\\anaconda3\\Lib\\site-packages\\pandas\\core\\frame.py:5581\u001b[0m, in \u001b[0;36mDataFrame.drop\u001b[1;34m(self, labels, axis, index, columns, level, inplace, errors)\u001b[0m\n\u001b[0;32m   5433\u001b[0m \u001b[38;5;28;01mdef\u001b[39;00m \u001b[38;5;21mdrop\u001b[39m(\n\u001b[0;32m   5434\u001b[0m     \u001b[38;5;28mself\u001b[39m,\n\u001b[0;32m   5435\u001b[0m     labels: IndexLabel \u001b[38;5;241m|\u001b[39m \u001b[38;5;28;01mNone\u001b[39;00m \u001b[38;5;241m=\u001b[39m \u001b[38;5;28;01mNone\u001b[39;00m,\n\u001b[1;32m   (...)\u001b[0m\n\u001b[0;32m   5442\u001b[0m     errors: IgnoreRaise \u001b[38;5;241m=\u001b[39m \u001b[38;5;124m\"\u001b[39m\u001b[38;5;124mraise\u001b[39m\u001b[38;5;124m\"\u001b[39m,\n\u001b[0;32m   5443\u001b[0m ) \u001b[38;5;241m-\u001b[39m\u001b[38;5;241m>\u001b[39m DataFrame \u001b[38;5;241m|\u001b[39m \u001b[38;5;28;01mNone\u001b[39;00m:\n\u001b[0;32m   5444\u001b[0m \u001b[38;5;250m    \u001b[39m\u001b[38;5;124;03m\"\"\"\u001b[39;00m\n\u001b[0;32m   5445\u001b[0m \u001b[38;5;124;03m    Drop specified labels from rows or columns.\u001b[39;00m\n\u001b[0;32m   5446\u001b[0m \n\u001b[1;32m   (...)\u001b[0m\n\u001b[0;32m   5579\u001b[0m \u001b[38;5;124;03m            weight  1.0     0.8\u001b[39;00m\n\u001b[0;32m   5580\u001b[0m \u001b[38;5;124;03m    \"\"\"\u001b[39;00m\n\u001b[1;32m-> 5581\u001b[0m     \u001b[38;5;28;01mreturn\u001b[39;00m \u001b[38;5;28msuper\u001b[39m()\u001b[38;5;241m.\u001b[39mdrop(\n\u001b[0;32m   5582\u001b[0m         labels\u001b[38;5;241m=\u001b[39mlabels,\n\u001b[0;32m   5583\u001b[0m         axis\u001b[38;5;241m=\u001b[39maxis,\n\u001b[0;32m   5584\u001b[0m         index\u001b[38;5;241m=\u001b[39mindex,\n\u001b[0;32m   5585\u001b[0m         columns\u001b[38;5;241m=\u001b[39mcolumns,\n\u001b[0;32m   5586\u001b[0m         level\u001b[38;5;241m=\u001b[39mlevel,\n\u001b[0;32m   5587\u001b[0m         inplace\u001b[38;5;241m=\u001b[39minplace,\n\u001b[0;32m   5588\u001b[0m         errors\u001b[38;5;241m=\u001b[39merrors,\n\u001b[0;32m   5589\u001b[0m     )\n",
      "File \u001b[1;32m~\\anaconda3\\Lib\\site-packages\\pandas\\core\\generic.py:4788\u001b[0m, in \u001b[0;36mNDFrame.drop\u001b[1;34m(self, labels, axis, index, columns, level, inplace, errors)\u001b[0m\n\u001b[0;32m   4786\u001b[0m \u001b[38;5;28;01mfor\u001b[39;00m axis, labels \u001b[38;5;129;01min\u001b[39;00m axes\u001b[38;5;241m.\u001b[39mitems():\n\u001b[0;32m   4787\u001b[0m     \u001b[38;5;28;01mif\u001b[39;00m labels \u001b[38;5;129;01mis\u001b[39;00m \u001b[38;5;129;01mnot\u001b[39;00m \u001b[38;5;28;01mNone\u001b[39;00m:\n\u001b[1;32m-> 4788\u001b[0m         obj \u001b[38;5;241m=\u001b[39m obj\u001b[38;5;241m.\u001b[39m_drop_axis(labels, axis, level\u001b[38;5;241m=\u001b[39mlevel, errors\u001b[38;5;241m=\u001b[39merrors)\n\u001b[0;32m   4790\u001b[0m \u001b[38;5;28;01mif\u001b[39;00m inplace:\n\u001b[0;32m   4791\u001b[0m     \u001b[38;5;28mself\u001b[39m\u001b[38;5;241m.\u001b[39m_update_inplace(obj)\n",
      "File \u001b[1;32m~\\anaconda3\\Lib\\site-packages\\pandas\\core\\generic.py:4830\u001b[0m, in \u001b[0;36mNDFrame._drop_axis\u001b[1;34m(self, labels, axis, level, errors, only_slice)\u001b[0m\n\u001b[0;32m   4828\u001b[0m         new_axis \u001b[38;5;241m=\u001b[39m axis\u001b[38;5;241m.\u001b[39mdrop(labels, level\u001b[38;5;241m=\u001b[39mlevel, errors\u001b[38;5;241m=\u001b[39merrors)\n\u001b[0;32m   4829\u001b[0m     \u001b[38;5;28;01melse\u001b[39;00m:\n\u001b[1;32m-> 4830\u001b[0m         new_axis \u001b[38;5;241m=\u001b[39m axis\u001b[38;5;241m.\u001b[39mdrop(labels, errors\u001b[38;5;241m=\u001b[39merrors)\n\u001b[0;32m   4831\u001b[0m     indexer \u001b[38;5;241m=\u001b[39m axis\u001b[38;5;241m.\u001b[39mget_indexer(new_axis)\n\u001b[0;32m   4833\u001b[0m \u001b[38;5;66;03m# Case for non-unique axis\u001b[39;00m\n\u001b[0;32m   4834\u001b[0m \u001b[38;5;28;01melse\u001b[39;00m:\n",
      "File \u001b[1;32m~\\anaconda3\\Lib\\site-packages\\pandas\\core\\indexes\\base.py:7070\u001b[0m, in \u001b[0;36mIndex.drop\u001b[1;34m(self, labels, errors)\u001b[0m\n\u001b[0;32m   7068\u001b[0m \u001b[38;5;28;01mif\u001b[39;00m mask\u001b[38;5;241m.\u001b[39many():\n\u001b[0;32m   7069\u001b[0m     \u001b[38;5;28;01mif\u001b[39;00m errors \u001b[38;5;241m!=\u001b[39m \u001b[38;5;124m\"\u001b[39m\u001b[38;5;124mignore\u001b[39m\u001b[38;5;124m\"\u001b[39m:\n\u001b[1;32m-> 7070\u001b[0m         \u001b[38;5;28;01mraise\u001b[39;00m \u001b[38;5;167;01mKeyError\u001b[39;00m(\u001b[38;5;124mf\u001b[39m\u001b[38;5;124m\"\u001b[39m\u001b[38;5;132;01m{\u001b[39;00mlabels[mask]\u001b[38;5;241m.\u001b[39mtolist()\u001b[38;5;132;01m}\u001b[39;00m\u001b[38;5;124m not found in axis\u001b[39m\u001b[38;5;124m\"\u001b[39m)\n\u001b[0;32m   7071\u001b[0m     indexer \u001b[38;5;241m=\u001b[39m indexer[\u001b[38;5;241m~\u001b[39mmask]\n\u001b[0;32m   7072\u001b[0m \u001b[38;5;28;01mreturn\u001b[39;00m \u001b[38;5;28mself\u001b[39m\u001b[38;5;241m.\u001b[39mdelete(indexer)\n",
      "\u001b[1;31mKeyError\u001b[0m: \"['Loaned From'] not found in axis\""
     ]
    }
   ],
   "source": [
    "df.drop('Loaned From', axis = 1, inplace = True)"
   ]
  },
  {
   "cell_type": "code",
   "execution_count": 114,
   "id": "8221a805-4a38-4bc2-90ea-36a13da145c4",
   "metadata": {},
   "outputs": [
    {
     "data": {
      "text/plain": [
       "ID                          0.0\n",
       "Name                        0.0\n",
       "Age                         0.0\n",
       "Nationality                 0.0\n",
       "Overall                     0.0\n",
       "Potential                   0.0\n",
       "Club                        0.0\n",
       "Value                       0.0\n",
       "Wage                        0.0\n",
       "Preferred Foot              0.0\n",
       "International Reputation    0.0\n",
       "Weak Foot                   0.0\n",
       "Skill Moves                 0.0\n",
       "Work Rate                   0.0\n",
       "Body Type                   0.0\n",
       "Position                    0.0\n",
       "Jersey Number               0.0\n",
       "Joined                      0.0\n",
       "Contract Valid Until        0.0\n",
       "Height                      0.0\n",
       "Weight                      0.0\n",
       "Crossing                    0.0\n",
       "Finishing                   0.0\n",
       "HeadingAccuracy             0.0\n",
       "ShortPassing                0.0\n",
       "Volleys                     0.0\n",
       "Dribbling                   0.0\n",
       "Curve                       0.0\n",
       "FKAccuracy                  0.0\n",
       "LongPassing                 0.0\n",
       "BallControl                 0.0\n",
       "Acceleration                0.0\n",
       "SprintSpeed                 0.0\n",
       "Agility                     0.0\n",
       "Reactions                   0.0\n",
       "Balance                     0.0\n",
       "ShotPower                   0.0\n",
       "Jumping                     0.0\n",
       "Stamina                     0.0\n",
       "Strength                    0.0\n",
       "LongShots                   0.0\n",
       "Aggression                  0.0\n",
       "Interceptions               0.0\n",
       "Positioning                 0.0\n",
       "Vision                      0.0\n",
       "Penalties                   0.0\n",
       "Composure                   0.0\n",
       "Marking                     0.0\n",
       "StandingTackle              0.0\n",
       "SlidingTackle               0.0\n",
       "GKDiving                    0.0\n",
       "GKHandling                  0.0\n",
       "GKKicking                   0.0\n",
       "GKPositioning               0.0\n",
       "GKReflexes                  0.0\n",
       "Release Clause              0.0\n",
       "dtype: float64"
      ]
     },
     "execution_count": 114,
     "metadata": {},
     "output_type": "execute_result"
    }
   ],
   "source": [
    "df.isnull().sum()/len(df)*100"
   ]
  },
  {
   "cell_type": "markdown",
   "id": "ed331400-627f-4490-9d08-490610d45254",
   "metadata": {},
   "source": [
    "## Exploratory Data Analysis (28 points)"
   ]
  },
  {
   "cell_type": "markdown",
   "id": "e931fac6-a543-47a3-b177-3f90628b5def",
   "metadata": {},
   "source": [
    "### 10. Plot the distribution of Overall rating for all the players and write your findings. (2 points)"
   ]
  },
  {
   "cell_type": "code",
   "execution_count": 116,
   "id": "4ef1b57c-a521-4713-aca7-8fc47ea119ae",
   "metadata": {},
   "outputs": [
    {
     "name": "stdout",
     "output_type": "stream",
     "text": [
      "skewness: 0.06718492227833812 range: 48 min: 46 max: 94 mean: 66.23869940132916 median: 66.0\n"
     ]
    }
   ],
   "source": [
    "skewness = df['Overall'].skew()\n",
    "range = df['Overall'].max() - df['Overall'].min()\n",
    "min = df['Overall'].min()\n",
    "max = df['Overall'].max()\n",
    "mean = df['Overall'].mean()\n",
    "median = df['Overall'].median()\n",
    "print('skewness:', skewness, 'range:', range, 'min:', min, 'max:', max, 'mean:', mean, 'median:', median)"
   ]
  },
  {
   "cell_type": "code",
   "execution_count": 118,
   "id": "368abe5c-752d-481c-bebf-de390890b95c",
   "metadata": {},
   "outputs": [
    {
     "data": {
      "image/png": "[encoded data removed]",
      "text/plain": [
       "<Figure size 640x480 with 1 Axes>"
      ]
     },
     "metadata": {},
     "output_type": "display_data"
    }
   ],
   "source": [
    "sns.histplot(df['Overall'], kde = True)\n",
    "plt.show()"
   ]
  },
  {
   "cell_type": "code",
   "execution_count": 120,
   "id": "1920be3b-5abe-47e5-9348-6c518bb0f3cb",
   "metadata": {},
   "outputs": [
    {
     "data": {
      "image/png": "[encoded data removed]",
      "text/plain": [
       "<Figure size 640x480 with 1 Axes>"
      ]
     },
     "metadata": {},
     "output_type": "display_data"
    }
   ],
   "source": [
    "sns.kdeplot(df['Overall'], fill=True)\n",
    "plt.show()"
   ]
  },
  {
   "cell_type": "markdown",
   "id": "7b58f4bb-b904-42f5-b0fc-3d8bcc8c9fca",
   "metadata": {},
   "source": [
    "### 11. Retrieve the names of top20 players based on the Overall rating. (2 points)"
   ]
  },
  {
   "cell_type": "code",
   "execution_count": 122,
   "id": "f74ea6a8-9e67-4f88-80a1-e5433332b920",
   "metadata": {},
   "outputs": [
    {
     "data": {
      "text/html": [
       "<div>\n",
       "<style scoped>\n",
       "    .dataframe tbody tr th:only-of-type {\n",
       "        vertical-align: middle;\n",
       "    }\n",
       "\n",
       "    .dataframe tbody tr th {\n",
       "        vertical-align: top;\n",
       "    }\n",
       "\n",
       "    .dataframe thead th {\n",
       "        text-align: right;\n",
       "    }\n",
       "</style>\n",
       "<table border=\"1\" class=\"dataframe\">\n",
       "  <thead>\n",
       "    <tr style=\"text-align: right;\">\n",
       "      <th></th>\n",
       "      <th>Name</th>\n",
       "      <th>Overall</th>\n",
       "    </tr>\n",
       "  </thead>\n",
       "  <tbody>\n",
       "    <tr>\n",
       "      <th>0</th>\n",
       "      <td>L. Messi</td>\n",
       "      <td>94</td>\n",
       "    </tr>\n",
       "    <tr>\n",
       "      <th>1</th>\n",
       "      <td>Cristiano Ronaldo</td>\n",
       "      <td>94</td>\n",
       "    </tr>\n",
       "    <tr>\n",
       "      <th>2</th>\n",
       "      <td>Neymar Jr</td>\n",
       "      <td>92</td>\n",
       "    </tr>\n",
       "    <tr>\n",
       "      <th>3</th>\n",
       "      <td>De Gea</td>\n",
       "      <td>91</td>\n",
       "    </tr>\n",
       "    <tr>\n",
       "      <th>4</th>\n",
       "      <td>K. De Bruyne</td>\n",
       "      <td>91</td>\n",
       "    </tr>\n",
       "    <tr>\n",
       "      <th>5</th>\n",
       "      <td>E. Hazard</td>\n",
       "      <td>91</td>\n",
       "    </tr>\n",
       "    <tr>\n",
       "      <th>6</th>\n",
       "      <td>L. Modrić</td>\n",
       "      <td>91</td>\n",
       "    </tr>\n",
       "    <tr>\n",
       "      <th>7</th>\n",
       "      <td>L. Suárez</td>\n",
       "      <td>91</td>\n",
       "    </tr>\n",
       "    <tr>\n",
       "      <th>8</th>\n",
       "      <td>Sergio Ramos</td>\n",
       "      <td>91</td>\n",
       "    </tr>\n",
       "    <tr>\n",
       "      <th>12</th>\n",
       "      <td>D. Godín</td>\n",
       "      <td>90</td>\n",
       "    </tr>\n",
       "    <tr>\n",
       "      <th>13</th>\n",
       "      <td>David Silva</td>\n",
       "      <td>90</td>\n",
       "    </tr>\n",
       "    <tr>\n",
       "      <th>9</th>\n",
       "      <td>J. Oblak</td>\n",
       "      <td>90</td>\n",
       "    </tr>\n",
       "    <tr>\n",
       "      <th>11</th>\n",
       "      <td>T. Kroos</td>\n",
       "      <td>90</td>\n",
       "    </tr>\n",
       "    <tr>\n",
       "      <th>10</th>\n",
       "      <td>R. Lewandowski</td>\n",
       "      <td>90</td>\n",
       "    </tr>\n",
       "    <tr>\n",
       "      <th>20</th>\n",
       "      <td>Sergio Busquets</td>\n",
       "      <td>89</td>\n",
       "    </tr>\n",
       "    <tr>\n",
       "      <th>24</th>\n",
       "      <td>G. Chiellini</td>\n",
       "      <td>89</td>\n",
       "    </tr>\n",
       "    <tr>\n",
       "      <th>23</th>\n",
       "      <td>S. Agüero</td>\n",
       "      <td>89</td>\n",
       "    </tr>\n",
       "    <tr>\n",
       "      <th>22</th>\n",
       "      <td>M. Neuer</td>\n",
       "      <td>89</td>\n",
       "    </tr>\n",
       "    <tr>\n",
       "      <th>21</th>\n",
       "      <td>E. Cavani</td>\n",
       "      <td>89</td>\n",
       "    </tr>\n",
       "    <tr>\n",
       "      <th>16</th>\n",
       "      <td>H. Kane</td>\n",
       "      <td>89</td>\n",
       "    </tr>\n",
       "  </tbody>\n",
       "</table>\n",
       "</div>"
      ],
      "text/plain": [
       "                 Name  Overall\n",
       "0            L. Messi       94\n",
       "1   Cristiano Ronaldo       94\n",
       "2           Neymar Jr       92\n",
       "3              De Gea       91\n",
       "4        K. De Bruyne       91\n",
       "5           E. Hazard       91\n",
       "6           L. Modrić       91\n",
       "7           L. Suárez       91\n",
       "8        Sergio Ramos       91\n",
       "12           D. Godín       90\n",
       "13        David Silva       90\n",
       "9            J. Oblak       90\n",
       "11           T. Kroos       90\n",
       "10     R. Lewandowski       90\n",
       "20    Sergio Busquets       89\n",
       "24       G. Chiellini       89\n",
       "23          S. Agüero       89\n",
       "22           M. Neuer       89\n",
       "21          E. Cavani       89\n",
       "16            H. Kane       89"
      ]
     },
     "execution_count": 122,
     "metadata": {},
     "output_type": "execute_result"
    }
   ],
   "source": [
    "top_20_players = df.sort_values(by='Overall', ascending=False).head(20)[['Name', 'Overall']]\n",
    "top_20_players"
   ]
  },
  {
   "cell_type": "markdown",
   "id": "06fcbaa8-4c83-43a4-80a0-e4ecee27e452",
   "metadata": {},
   "source": [
    "### 12. Generate a dataframe which should include all the information of the Top 20 players based on the Overall rating. (4 points)"
   ]
  },
  {
   "cell_type": "code",
   "execution_count": 126,
   "id": "2771314c-731d-454f-b8b2-b09dc3d151c9",
   "metadata": {},
   "outputs": [
    {
     "data": {
      "text/html": [
       "<div>\n",
       "<style scoped>\n",
       "    .dataframe tbody tr th:only-of-type {\n",
       "        vertical-align: middle;\n",
       "    }\n",
       "\n",
       "    .dataframe tbody tr th {\n",
       "        vertical-align: top;\n",
       "    }\n",
       "\n",
       "    .dataframe thead th {\n",
       "        text-align: right;\n",
       "    }\n",
       "</style>\n",
       "<table border=\"1\" class=\"dataframe\">\n",
       "  <thead>\n",
       "    <tr style=\"text-align: right;\">\n",
       "      <th></th>\n",
       "      <th>index</th>\n",
       "      <th>ID</th>\n",
       "      <th>Name</th>\n",
       "      <th>Age</th>\n",
       "      <th>Nationality</th>\n",
       "      <th>Overall</th>\n",
       "      <th>Potential</th>\n",
       "      <th>Club</th>\n",
       "      <th>Value</th>\n",
       "      <th>Wage</th>\n",
       "      <th>...</th>\n",
       "      <th>Composure</th>\n",
       "      <th>Marking</th>\n",
       "      <th>StandingTackle</th>\n",
       "      <th>SlidingTackle</th>\n",
       "      <th>GKDiving</th>\n",
       "      <th>GKHandling</th>\n",
       "      <th>GKKicking</th>\n",
       "      <th>GKPositioning</th>\n",
       "      <th>GKReflexes</th>\n",
       "      <th>Release Clause</th>\n",
       "    </tr>\n",
       "  </thead>\n",
       "  <tbody>\n",
       "    <tr>\n",
       "      <th>0</th>\n",
       "      <td>0</td>\n",
       "      <td>158023</td>\n",
       "      <td>L. Messi</td>\n",
       "      <td>31</td>\n",
       "      <td>Argentina</td>\n",
       "      <td>94</td>\n",
       "      <td>94</td>\n",
       "      <td>FC Barcelona</td>\n",
       "      <td>110500000.0</td>\n",
       "      <td>565000.0</td>\n",
       "      <td>...</td>\n",
       "      <td>96.0</td>\n",
       "      <td>33.0</td>\n",
       "      <td>28.0</td>\n",
       "      <td>26.0</td>\n",
       "      <td>6.0</td>\n",
       "      <td>11.0</td>\n",
       "      <td>15.0</td>\n",
       "      <td>14.0</td>\n",
       "      <td>8.0</td>\n",
       "      <td>226500000.0</td>\n",
       "    </tr>\n",
       "    <tr>\n",
       "      <th>1</th>\n",
       "      <td>1</td>\n",
       "      <td>20801</td>\n",
       "      <td>Cristiano Ronaldo</td>\n",
       "      <td>33</td>\n",
       "      <td>Portugal</td>\n",
       "      <td>94</td>\n",
       "      <td>94</td>\n",
       "      <td>Juventus</td>\n",
       "      <td>77000000.0</td>\n",
       "      <td>405000.0</td>\n",
       "      <td>...</td>\n",
       "      <td>95.0</td>\n",
       "      <td>28.0</td>\n",
       "      <td>31.0</td>\n",
       "      <td>23.0</td>\n",
       "      <td>7.0</td>\n",
       "      <td>11.0</td>\n",
       "      <td>15.0</td>\n",
       "      <td>14.0</td>\n",
       "      <td>11.0</td>\n",
       "      <td>127100000.0</td>\n",
       "    </tr>\n",
       "    <tr>\n",
       "      <th>2</th>\n",
       "      <td>2</td>\n",
       "      <td>190871</td>\n",
       "      <td>Neymar Jr</td>\n",
       "      <td>26</td>\n",
       "      <td>Brazil</td>\n",
       "      <td>92</td>\n",
       "      <td>93</td>\n",
       "      <td>Paris Saint-Germain</td>\n",
       "      <td>118500000.0</td>\n",
       "      <td>290000.0</td>\n",
       "      <td>...</td>\n",
       "      <td>94.0</td>\n",
       "      <td>27.0</td>\n",
       "      <td>24.0</td>\n",
       "      <td>33.0</td>\n",
       "      <td>9.0</td>\n",
       "      <td>9.0</td>\n",
       "      <td>15.0</td>\n",
       "      <td>15.0</td>\n",
       "      <td>11.0</td>\n",
       "      <td>228100000.0</td>\n",
       "    </tr>\n",
       "    <tr>\n",
       "      <th>3</th>\n",
       "      <td>3</td>\n",
       "      <td>193080</td>\n",
       "      <td>De Gea</td>\n",
       "      <td>27</td>\n",
       "      <td>Spain</td>\n",
       "      <td>91</td>\n",
       "      <td>93</td>\n",
       "      <td>Manchester United</td>\n",
       "      <td>72000000.0</td>\n",
       "      <td>260000.0</td>\n",
       "      <td>...</td>\n",
       "      <td>68.0</td>\n",
       "      <td>15.0</td>\n",
       "      <td>21.0</td>\n",
       "      <td>13.0</td>\n",
       "      <td>90.0</td>\n",
       "      <td>85.0</td>\n",
       "      <td>87.0</td>\n",
       "      <td>88.0</td>\n",
       "      <td>94.0</td>\n",
       "      <td>138600000.0</td>\n",
       "    </tr>\n",
       "    <tr>\n",
       "      <th>4</th>\n",
       "      <td>4</td>\n",
       "      <td>192985</td>\n",
       "      <td>K. De Bruyne</td>\n",
       "      <td>27</td>\n",
       "      <td>Belgium</td>\n",
       "      <td>91</td>\n",
       "      <td>92</td>\n",
       "      <td>Manchester City</td>\n",
       "      <td>102000000.0</td>\n",
       "      <td>355000.0</td>\n",
       "      <td>...</td>\n",
       "      <td>88.0</td>\n",
       "      <td>68.0</td>\n",
       "      <td>58.0</td>\n",
       "      <td>51.0</td>\n",
       "      <td>15.0</td>\n",
       "      <td>13.0</td>\n",
       "      <td>5.0</td>\n",
       "      <td>10.0</td>\n",
       "      <td>13.0</td>\n",
       "      <td>196400000.0</td>\n",
       "    </tr>\n",
       "    <tr>\n",
       "      <th>5</th>\n",
       "      <td>5</td>\n",
       "      <td>183277</td>\n",
       "      <td>E. Hazard</td>\n",
       "      <td>27</td>\n",
       "      <td>Belgium</td>\n",
       "      <td>91</td>\n",
       "      <td>91</td>\n",
       "      <td>Chelsea</td>\n",
       "      <td>93000000.0</td>\n",
       "      <td>340000.0</td>\n",
       "      <td>...</td>\n",
       "      <td>91.0</td>\n",
       "      <td>34.0</td>\n",
       "      <td>27.0</td>\n",
       "      <td>22.0</td>\n",
       "      <td>11.0</td>\n",
       "      <td>12.0</td>\n",
       "      <td>6.0</td>\n",
       "      <td>8.0</td>\n",
       "      <td>8.0</td>\n",
       "      <td>172100000.0</td>\n",
       "    </tr>\n",
       "    <tr>\n",
       "      <th>6</th>\n",
       "      <td>6</td>\n",
       "      <td>177003</td>\n",
       "      <td>L. Modrić</td>\n",
       "      <td>32</td>\n",
       "      <td>Croatia</td>\n",
       "      <td>91</td>\n",
       "      <td>91</td>\n",
       "      <td>Real Madrid</td>\n",
       "      <td>67000000.0</td>\n",
       "      <td>420000.0</td>\n",
       "      <td>...</td>\n",
       "      <td>84.0</td>\n",
       "      <td>60.0</td>\n",
       "      <td>76.0</td>\n",
       "      <td>73.0</td>\n",
       "      <td>13.0</td>\n",
       "      <td>9.0</td>\n",
       "      <td>7.0</td>\n",
       "      <td>14.0</td>\n",
       "      <td>9.0</td>\n",
       "      <td>137400000.0</td>\n",
       "    </tr>\n",
       "    <tr>\n",
       "      <th>7</th>\n",
       "      <td>7</td>\n",
       "      <td>176580</td>\n",
       "      <td>L. Suárez</td>\n",
       "      <td>31</td>\n",
       "      <td>Uruguay</td>\n",
       "      <td>91</td>\n",
       "      <td>91</td>\n",
       "      <td>FC Barcelona</td>\n",
       "      <td>80000000.0</td>\n",
       "      <td>455000.0</td>\n",
       "      <td>...</td>\n",
       "      <td>85.0</td>\n",
       "      <td>62.0</td>\n",
       "      <td>45.0</td>\n",
       "      <td>38.0</td>\n",
       "      <td>27.0</td>\n",
       "      <td>25.0</td>\n",
       "      <td>31.0</td>\n",
       "      <td>33.0</td>\n",
       "      <td>37.0</td>\n",
       "      <td>164000000.0</td>\n",
       "    </tr>\n",
       "    <tr>\n",
       "      <th>8</th>\n",
       "      <td>8</td>\n",
       "      <td>155862</td>\n",
       "      <td>Sergio Ramos</td>\n",
       "      <td>32</td>\n",
       "      <td>Spain</td>\n",
       "      <td>91</td>\n",
       "      <td>91</td>\n",
       "      <td>Real Madrid</td>\n",
       "      <td>51000000.0</td>\n",
       "      <td>380000.0</td>\n",
       "      <td>...</td>\n",
       "      <td>82.0</td>\n",
       "      <td>87.0</td>\n",
       "      <td>92.0</td>\n",
       "      <td>91.0</td>\n",
       "      <td>11.0</td>\n",
       "      <td>8.0</td>\n",
       "      <td>9.0</td>\n",
       "      <td>7.0</td>\n",
       "      <td>11.0</td>\n",
       "      <td>104600000.0</td>\n",
       "    </tr>\n",
       "    <tr>\n",
       "      <th>9</th>\n",
       "      <td>12</td>\n",
       "      <td>182493</td>\n",
       "      <td>D. Godín</td>\n",
       "      <td>32</td>\n",
       "      <td>Uruguay</td>\n",
       "      <td>90</td>\n",
       "      <td>90</td>\n",
       "      <td>Atlético Madrid</td>\n",
       "      <td>44000000.0</td>\n",
       "      <td>125000.0</td>\n",
       "      <td>...</td>\n",
       "      <td>82.0</td>\n",
       "      <td>90.0</td>\n",
       "      <td>89.0</td>\n",
       "      <td>89.0</td>\n",
       "      <td>6.0</td>\n",
       "      <td>8.0</td>\n",
       "      <td>15.0</td>\n",
       "      <td>5.0</td>\n",
       "      <td>15.0</td>\n",
       "      <td>90200000.0</td>\n",
       "    </tr>\n",
       "    <tr>\n",
       "      <th>10</th>\n",
       "      <td>13</td>\n",
       "      <td>168542</td>\n",
       "      <td>David Silva</td>\n",
       "      <td>32</td>\n",
       "      <td>Spain</td>\n",
       "      <td>90</td>\n",
       "      <td>90</td>\n",
       "      <td>Manchester City</td>\n",
       "      <td>60000000.0</td>\n",
       "      <td>285000.0</td>\n",
       "      <td>...</td>\n",
       "      <td>93.0</td>\n",
       "      <td>59.0</td>\n",
       "      <td>53.0</td>\n",
       "      <td>29.0</td>\n",
       "      <td>6.0</td>\n",
       "      <td>15.0</td>\n",
       "      <td>7.0</td>\n",
       "      <td>6.0</td>\n",
       "      <td>12.0</td>\n",
       "      <td>111000000.0</td>\n",
       "    </tr>\n",
       "    <tr>\n",
       "      <th>11</th>\n",
       "      <td>9</td>\n",
       "      <td>200389</td>\n",
       "      <td>J. Oblak</td>\n",
       "      <td>25</td>\n",
       "      <td>Slovenia</td>\n",
       "      <td>90</td>\n",
       "      <td>93</td>\n",
       "      <td>Atlético Madrid</td>\n",
       "      <td>68000000.0</td>\n",
       "      <td>94000.0</td>\n",
       "      <td>...</td>\n",
       "      <td>70.0</td>\n",
       "      <td>27.0</td>\n",
       "      <td>12.0</td>\n",
       "      <td>18.0</td>\n",
       "      <td>86.0</td>\n",
       "      <td>92.0</td>\n",
       "      <td>78.0</td>\n",
       "      <td>88.0</td>\n",
       "      <td>89.0</td>\n",
       "      <td>144500000.0</td>\n",
       "    </tr>\n",
       "    <tr>\n",
       "      <th>12</th>\n",
       "      <td>11</td>\n",
       "      <td>182521</td>\n",
       "      <td>T. Kroos</td>\n",
       "      <td>28</td>\n",
       "      <td>Germany</td>\n",
       "      <td>90</td>\n",
       "      <td>90</td>\n",
       "      <td>Real Madrid</td>\n",
       "      <td>76500000.0</td>\n",
       "      <td>355000.0</td>\n",
       "      <td>...</td>\n",
       "      <td>85.0</td>\n",
       "      <td>72.0</td>\n",
       "      <td>79.0</td>\n",
       "      <td>69.0</td>\n",
       "      <td>10.0</td>\n",
       "      <td>11.0</td>\n",
       "      <td>13.0</td>\n",
       "      <td>7.0</td>\n",
       "      <td>10.0</td>\n",
       "      <td>156800000.0</td>\n",
       "    </tr>\n",
       "    <tr>\n",
       "      <th>13</th>\n",
       "      <td>10</td>\n",
       "      <td>188545</td>\n",
       "      <td>R. Lewandowski</td>\n",
       "      <td>29</td>\n",
       "      <td>Poland</td>\n",
       "      <td>90</td>\n",
       "      <td>90</td>\n",
       "      <td>FC Bayern München</td>\n",
       "      <td>77000000.0</td>\n",
       "      <td>205000.0</td>\n",
       "      <td>...</td>\n",
       "      <td>86.0</td>\n",
       "      <td>34.0</td>\n",
       "      <td>42.0</td>\n",
       "      <td>19.0</td>\n",
       "      <td>15.0</td>\n",
       "      <td>6.0</td>\n",
       "      <td>12.0</td>\n",
       "      <td>8.0</td>\n",
       "      <td>10.0</td>\n",
       "      <td>127100000.0</td>\n",
       "    </tr>\n",
       "    <tr>\n",
       "      <th>14</th>\n",
       "      <td>20</td>\n",
       "      <td>189511</td>\n",
       "      <td>Sergio Busquets</td>\n",
       "      <td>29</td>\n",
       "      <td>Spain</td>\n",
       "      <td>89</td>\n",
       "      <td>89</td>\n",
       "      <td>FC Barcelona</td>\n",
       "      <td>51500000.0</td>\n",
       "      <td>315000.0</td>\n",
       "      <td>...</td>\n",
       "      <td>90.0</td>\n",
       "      <td>90.0</td>\n",
       "      <td>86.0</td>\n",
       "      <td>80.0</td>\n",
       "      <td>5.0</td>\n",
       "      <td>8.0</td>\n",
       "      <td>13.0</td>\n",
       "      <td>9.0</td>\n",
       "      <td>13.0</td>\n",
       "      <td>105600000.0</td>\n",
       "    </tr>\n",
       "    <tr>\n",
       "      <th>15</th>\n",
       "      <td>24</td>\n",
       "      <td>138956</td>\n",
       "      <td>G. Chiellini</td>\n",
       "      <td>33</td>\n",
       "      <td>Italy</td>\n",
       "      <td>89</td>\n",
       "      <td>89</td>\n",
       "      <td>Juventus</td>\n",
       "      <td>27000000.0</td>\n",
       "      <td>215000.0</td>\n",
       "      <td>...</td>\n",
       "      <td>84.0</td>\n",
       "      <td>93.0</td>\n",
       "      <td>93.0</td>\n",
       "      <td>90.0</td>\n",
       "      <td>3.0</td>\n",
       "      <td>3.0</td>\n",
       "      <td>2.0</td>\n",
       "      <td>4.0</td>\n",
       "      <td>3.0</td>\n",
       "      <td>44600000.0</td>\n",
       "    </tr>\n",
       "    <tr>\n",
       "      <th>16</th>\n",
       "      <td>23</td>\n",
       "      <td>153079</td>\n",
       "      <td>S. Agüero</td>\n",
       "      <td>30</td>\n",
       "      <td>Argentina</td>\n",
       "      <td>89</td>\n",
       "      <td>89</td>\n",
       "      <td>Manchester City</td>\n",
       "      <td>64500000.0</td>\n",
       "      <td>300000.0</td>\n",
       "      <td>...</td>\n",
       "      <td>90.0</td>\n",
       "      <td>30.0</td>\n",
       "      <td>20.0</td>\n",
       "      <td>12.0</td>\n",
       "      <td>13.0</td>\n",
       "      <td>15.0</td>\n",
       "      <td>6.0</td>\n",
       "      <td>11.0</td>\n",
       "      <td>14.0</td>\n",
       "      <td>119300000.0</td>\n",
       "    </tr>\n",
       "    <tr>\n",
       "      <th>17</th>\n",
       "      <td>22</td>\n",
       "      <td>167495</td>\n",
       "      <td>M. Neuer</td>\n",
       "      <td>32</td>\n",
       "      <td>Germany</td>\n",
       "      <td>89</td>\n",
       "      <td>89</td>\n",
       "      <td>FC Bayern München</td>\n",
       "      <td>38000000.0</td>\n",
       "      <td>130000.0</td>\n",
       "      <td>...</td>\n",
       "      <td>70.0</td>\n",
       "      <td>17.0</td>\n",
       "      <td>10.0</td>\n",
       "      <td>11.0</td>\n",
       "      <td>90.0</td>\n",
       "      <td>86.0</td>\n",
       "      <td>91.0</td>\n",
       "      <td>87.0</td>\n",
       "      <td>87.0</td>\n",
       "      <td>62700000.0</td>\n",
       "    </tr>\n",
       "    <tr>\n",
       "      <th>18</th>\n",
       "      <td>21</td>\n",
       "      <td>179813</td>\n",
       "      <td>E. Cavani</td>\n",
       "      <td>31</td>\n",
       "      <td>Uruguay</td>\n",
       "      <td>89</td>\n",
       "      <td>89</td>\n",
       "      <td>Paris Saint-Germain</td>\n",
       "      <td>60000000.0</td>\n",
       "      <td>200000.0</td>\n",
       "      <td>...</td>\n",
       "      <td>82.0</td>\n",
       "      <td>52.0</td>\n",
       "      <td>45.0</td>\n",
       "      <td>39.0</td>\n",
       "      <td>12.0</td>\n",
       "      <td>5.0</td>\n",
       "      <td>13.0</td>\n",
       "      <td>13.0</td>\n",
       "      <td>10.0</td>\n",
       "      <td>111000000.0</td>\n",
       "    </tr>\n",
       "    <tr>\n",
       "      <th>19</th>\n",
       "      <td>16</td>\n",
       "      <td>202126</td>\n",
       "      <td>H. Kane</td>\n",
       "      <td>24</td>\n",
       "      <td>England</td>\n",
       "      <td>89</td>\n",
       "      <td>91</td>\n",
       "      <td>Tottenham Hotspur</td>\n",
       "      <td>83500000.0</td>\n",
       "      <td>205000.0</td>\n",
       "      <td>...</td>\n",
       "      <td>89.0</td>\n",
       "      <td>56.0</td>\n",
       "      <td>36.0</td>\n",
       "      <td>38.0</td>\n",
       "      <td>8.0</td>\n",
       "      <td>10.0</td>\n",
       "      <td>11.0</td>\n",
       "      <td>14.0</td>\n",
       "      <td>11.0</td>\n",
       "      <td>160700000.0</td>\n",
       "    </tr>\n",
       "  </tbody>\n",
       "</table>\n",
       "<p>20 rows × 57 columns</p>\n",
       "</div>"
      ],
      "text/plain": [
       "    index      ID               Name  Age Nationality  Overall  Potential  \\\n",
       "0       0  158023           L. Messi   31   Argentina       94         94   \n",
       "1       1   20801  Cristiano Ronaldo   33    Portugal       94         94   \n",
       "2       2  190871          Neymar Jr   26      Brazil       92         93   \n",
       "3       3  193080             De Gea   27       Spain       91         93   \n",
       "4       4  192985       K. De Bruyne   27     Belgium       91         92   \n",
       "5       5  183277          E. Hazard   27     Belgium       91         91   \n",
       "6       6  177003          L. Modrić   32     Croatia       91         91   \n",
       "7       7  176580          L. Suárez   31     Uruguay       91         91   \n",
       "8       8  155862       Sergio Ramos   32       Spain       91         91   \n",
       "9      12  182493           D. Godín   32     Uruguay       90         90   \n",
       "10     13  168542        David Silva   32       Spain       90         90   \n",
       "11      9  200389           J. Oblak   25    Slovenia       90         93   \n",
       "12     11  182521           T. Kroos   28     Germany       90         90   \n",
       "13     10  188545     R. Lewandowski   29      Poland       90         90   \n",
       "14     20  189511    Sergio Busquets   29       Spain       89         89   \n",
       "15     24  138956       G. Chiellini   33       Italy       89         89   \n",
       "16     23  153079          S. Agüero   30   Argentina       89         89   \n",
       "17     22  167495           M. Neuer   32     Germany       89         89   \n",
       "18     21  179813          E. Cavani   31     Uruguay       89         89   \n",
       "19     16  202126            H. Kane   24     England       89         91   \n",
       "\n",
       "                   Club        Value      Wage  ... Composure  Marking  \\\n",
       "0          FC Barcelona  110500000.0  565000.0  ...      96.0     33.0   \n",
       "1              Juventus   77000000.0  405000.0  ...      95.0     28.0   \n",
       "2   Paris Saint-Germain  118500000.0  290000.0  ...      94.0     27.0   \n",
       "3     Manchester United   72000000.0  260000.0  ...      68.0     15.0   \n",
       "4       Manchester City  102000000.0  355000.0  ...      88.0     68.0   \n",
       "5               Chelsea   93000000.0  340000.0  ...      91.0     34.0   \n",
       "6           Real Madrid   67000000.0  420000.0  ...      84.0     60.0   \n",
       "7          FC Barcelona   80000000.0  455000.0  ...      85.0     62.0   \n",
       "8           Real Madrid   51000000.0  380000.0  ...      82.0     87.0   \n",
       "9       Atlético Madrid   44000000.0  125000.0  ...      82.0     90.0   \n",
       "10      Manchester City   60000000.0  285000.0  ...      93.0     59.0   \n",
       "11      Atlético Madrid   68000000.0   94000.0  ...      70.0     27.0   \n",
       "12          Real Madrid   76500000.0  355000.0  ...      85.0     72.0   \n",
       "13    FC Bayern München   77000000.0  205000.0  ...      86.0     34.0   \n",
       "14         FC Barcelona   51500000.0  315000.0  ...      90.0     90.0   \n",
       "15             Juventus   27000000.0  215000.0  ...      84.0     93.0   \n",
       "16      Manchester City   64500000.0  300000.0  ...      90.0     30.0   \n",
       "17    FC Bayern München   38000000.0  130000.0  ...      70.0     17.0   \n",
       "18  Paris Saint-Germain   60000000.0  200000.0  ...      82.0     52.0   \n",
       "19    Tottenham Hotspur   83500000.0  205000.0  ...      89.0     56.0   \n",
       "\n",
       "    StandingTackle  SlidingTackle GKDiving GKHandling GKKicking  \\\n",
       "0             28.0           26.0      6.0       11.0      15.0   \n",
       "1             31.0           23.0      7.0       11.0      15.0   \n",
       "2             24.0           33.0      9.0        9.0      15.0   \n",
       "3             21.0           13.0     90.0       85.0      87.0   \n",
       "4             58.0           51.0     15.0       13.0       5.0   \n",
       "5             27.0           22.0     11.0       12.0       6.0   \n",
       "6             76.0           73.0     13.0        9.0       7.0   \n",
       "7             45.0           38.0     27.0       25.0      31.0   \n",
       "8             92.0           91.0     11.0        8.0       9.0   \n",
       "9             89.0           89.0      6.0        8.0      15.0   \n",
       "10            53.0           29.0      6.0       15.0       7.0   \n",
       "11            12.0           18.0     86.0       92.0      78.0   \n",
       "12            79.0           69.0     10.0       11.0      13.0   \n",
       "13            42.0           19.0     15.0        6.0      12.0   \n",
       "14            86.0           80.0      5.0        8.0      13.0   \n",
       "15            93.0           90.0      3.0        3.0       2.0   \n",
       "16            20.0           12.0     13.0       15.0       6.0   \n",
       "17            10.0           11.0     90.0       86.0      91.0   \n",
       "18            45.0           39.0     12.0        5.0      13.0   \n",
       "19            36.0           38.0      8.0       10.0      11.0   \n",
       "\n",
       "    GKPositioning  GKReflexes Release Clause  \n",
       "0            14.0         8.0    226500000.0  \n",
       "1            14.0        11.0    127100000.0  \n",
       "2            15.0        11.0    228100000.0  \n",
       "3            88.0        94.0    138600000.0  \n",
       "4            10.0        13.0    196400000.0  \n",
       "5             8.0         8.0    172100000.0  \n",
       "6            14.0         9.0    137400000.0  \n",
       "7            33.0        37.0    164000000.0  \n",
       "8             7.0        11.0    104600000.0  \n",
       "9             5.0        15.0     90200000.0  \n",
       "10            6.0        12.0    111000000.0  \n",
       "11           88.0        89.0    144500000.0  \n",
       "12            7.0        10.0    156800000.0  \n",
       "13            8.0        10.0    127100000.0  \n",
       "14            9.0        13.0    105600000.0  \n",
       "15            4.0         3.0     44600000.0  \n",
       "16           11.0        14.0    119300000.0  \n",
       "17           87.0        87.0     62700000.0  \n",
       "18           13.0        10.0    111000000.0  \n",
       "19           14.0        11.0    160700000.0  \n",
       "\n",
       "[20 rows x 57 columns]"
      ]
     },
     "execution_count": 126,
     "metadata": {},
     "output_type": "execute_result"
    }
   ],
   "source": [
    "top_20_df = df.sort_values(by='Overall', ascending=False).head(20).reset_index()\n",
    "top_20_df"
   ]
  },
  {
   "cell_type": "markdown",
   "id": "fe4fd3ba-50f7-41f2-9f02-2bbf3ce48490",
   "metadata": {},
   "source": [
    "### 13. What is the average \"Age\" and \"Wage\" of these top 20 players? (use the data frame created in the question 11) (2 points)"
   ]
  },
  {
   "cell_type": "code",
   "execution_count": 128,
   "id": "bae8435c-bae8-4464-960a-df1f2314a30d",
   "metadata": {},
   "outputs": [
    {
     "data": {
      "text/plain": [
       "29.55"
      ]
     },
     "execution_count": 128,
     "metadata": {},
     "output_type": "execute_result"
    }
   ],
   "source": [
    "top_20_df['Age'].mean()"
   ]
  },
  {
   "cell_type": "code",
   "execution_count": 130,
   "id": "1887789a-2832-4964-907a-7edb0b631898",
   "metadata": {},
   "outputs": [
    {
     "data": {
      "text/plain": [
       "294950.0"
      ]
     },
     "execution_count": 130,
     "metadata": {},
     "output_type": "execute_result"
    }
   ],
   "source": [
    "top_20_df['Wage'].mean()"
   ]
  },
  {
   "cell_type": "markdown",
   "id": "71986a9f-4679-4994-99bb-2c0e9f216e4d",
   "metadata": {},
   "source": [
    "### 14. Among the top 20 players based on the Overall rating, which player has the highest wage? Display the name of the player with his wage. (2 points)"
   ]
  },
  {
   "cell_type": "code",
   "execution_count": 134,
   "id": "3ebb4dcd-191e-441c-8fce-b8ad1d74b0f5",
   "metadata": {},
   "outputs": [
    {
     "data": {
      "text/plain": [
       "Name    L. Messi\n",
       "Wage    565000.0\n",
       "Name: 0, dtype: object"
      ]
     },
     "execution_count": 134,
     "metadata": {},
     "output_type": "execute_result"
    }
   ],
   "source": [
    "top_20_df.loc[top_20_df['Wage'].idxmax(), ['Name', 'Wage']]"
   ]
  },
  {
   "cell_type": "code",
   "execution_count": 136,
   "id": "7fe6d7c0-d081-48a0-a7ba-485f6a89f2c7",
   "metadata": {},
   "outputs": [
    {
     "data": {
      "text/html": [
       "<div>\n",
       "<style scoped>\n",
       "    .dataframe tbody tr th:only-of-type {\n",
       "        vertical-align: middle;\n",
       "    }\n",
       "\n",
       "    .dataframe tbody tr th {\n",
       "        vertical-align: top;\n",
       "    }\n",
       "\n",
       "    .dataframe thead th {\n",
       "        text-align: right;\n",
       "    }\n",
       "</style>\n",
       "<table border=\"1\" class=\"dataframe\">\n",
       "  <thead>\n",
       "    <tr style=\"text-align: right;\">\n",
       "      <th></th>\n",
       "      <th>Name</th>\n",
       "      <th>Wage</th>\n",
       "    </tr>\n",
       "  </thead>\n",
       "  <tbody>\n",
       "    <tr>\n",
       "      <th>0</th>\n",
       "      <td>L. Messi</td>\n",
       "      <td>565000.0</td>\n",
       "    </tr>\n",
       "  </tbody>\n",
       "</table>\n",
       "</div>"
      ],
      "text/plain": [
       "       Name      Wage\n",
       "0  L. Messi  565000.0"
      ]
     },
     "execution_count": 136,
     "metadata": {},
     "output_type": "execute_result"
    }
   ],
   "source": [
    "top_20_df[top_20_df['Wage'] == top_20_df['Wage'].max()][['Name', 'Wage']]"
   ]
  },
  {
   "cell_type": "markdown",
   "id": "ff5589a0-a71c-4cf6-ac56-f9d8ac8ea315",
   "metadata": {},
   "source": [
    "### 15. Generate a dataframe which should include the \"Player name\", \"Club Name\", \"Wage\", and 'Overall rating'. (4 Points) \n",
    "- i) find the average Overall rating for each club.\n",
    "- ii) Display the average overall rating of Top10 Clubs using a plot"
   ]
  },
  {
   "cell_type": "code",
   "execution_count": 139,
   "id": "23995f8c-071a-41a2-9e3c-7a17ccdd28be",
   "metadata": {},
   "outputs": [
    {
     "data": {
      "text/html": [
       "<div>\n",
       "<style scoped>\n",
       "    .dataframe tbody tr th:only-of-type {\n",
       "        vertical-align: middle;\n",
       "    }\n",
       "\n",
       "    .dataframe tbody tr th {\n",
       "        vertical-align: top;\n",
       "    }\n",
       "\n",
       "    .dataframe thead th {\n",
       "        text-align: right;\n",
       "    }\n",
       "</style>\n",
       "<table border=\"1\" class=\"dataframe\">\n",
       "  <thead>\n",
       "    <tr style=\"text-align: right;\">\n",
       "      <th></th>\n",
       "      <th>Name</th>\n",
       "      <th>Club</th>\n",
       "      <th>Wage</th>\n",
       "      <th>Overall</th>\n",
       "    </tr>\n",
       "  </thead>\n",
       "  <tbody>\n",
       "    <tr>\n",
       "      <th>0</th>\n",
       "      <td>L. Messi</td>\n",
       "      <td>FC Barcelona</td>\n",
       "      <td>565000.0</td>\n",
       "      <td>94</td>\n",
       "    </tr>\n",
       "    <tr>\n",
       "      <th>1</th>\n",
       "      <td>Cristiano Ronaldo</td>\n",
       "      <td>Juventus</td>\n",
       "      <td>405000.0</td>\n",
       "      <td>94</td>\n",
       "    </tr>\n",
       "    <tr>\n",
       "      <th>2</th>\n",
       "      <td>Neymar Jr</td>\n",
       "      <td>Paris Saint-Germain</td>\n",
       "      <td>290000.0</td>\n",
       "      <td>92</td>\n",
       "    </tr>\n",
       "    <tr>\n",
       "      <th>3</th>\n",
       "      <td>De Gea</td>\n",
       "      <td>Manchester United</td>\n",
       "      <td>260000.0</td>\n",
       "      <td>91</td>\n",
       "    </tr>\n",
       "    <tr>\n",
       "      <th>4</th>\n",
       "      <td>K. De Bruyne</td>\n",
       "      <td>Manchester City</td>\n",
       "      <td>355000.0</td>\n",
       "      <td>91</td>\n",
       "    </tr>\n",
       "  </tbody>\n",
       "</table>\n",
       "</div>"
      ],
      "text/plain": [
       "                Name                 Club      Wage  Overall\n",
       "0           L. Messi         FC Barcelona  565000.0       94\n",
       "1  Cristiano Ronaldo             Juventus  405000.0       94\n",
       "2          Neymar Jr  Paris Saint-Germain  290000.0       92\n",
       "3             De Gea    Manchester United  260000.0       91\n",
       "4       K. De Bruyne      Manchester City  355000.0       91"
      ]
     },
     "execution_count": 139,
     "metadata": {},
     "output_type": "execute_result"
    }
   ],
   "source": [
    "new_df = df[['Name', 'Club', 'Wage', 'Overall']]\n",
    "new_df.head()"
   ]
  },
  {
   "cell_type": "code",
   "execution_count": 141,
   "id": "715a5764-7304-4d50-a9f4-d3cc67da403c",
   "metadata": {},
   "outputs": [
    {
     "data": {
      "text/plain": [
       "651"
      ]
     },
     "execution_count": 141,
     "metadata": {},
     "output_type": "execute_result"
    }
   ],
   "source": [
    "df['Club'].nunique()"
   ]
  },
  {
   "cell_type": "code",
   "execution_count": 143,
   "id": "fda7627d-0fc4-402b-9250-d331ef81096b",
   "metadata": {},
   "outputs": [
    {
     "data": {
      "text/plain": [
       "Club\n",
       "Juventus               82.280000\n",
       "Napoli                 80.000000\n",
       "Inter                  79.750000\n",
       "Real Madrid            78.242424\n",
       "Milan                  78.074074\n",
       "FC Barcelona           78.030303\n",
       "Paris Saint-Germain    77.433333\n",
       "Roma                   77.423077\n",
       "Manchester United      77.242424\n",
       "SL Benfica             77.000000\n",
       "Name: Overall, dtype: float64"
      ]
     },
     "execution_count": 143,
     "metadata": {},
     "output_type": "execute_result"
    }
   ],
   "source": [
    "avg_overall_rating_for_eachclub = new_df.groupby('Club')['Overall'].mean()\n",
    "top_10_avg_overall_rating_for_eachclub = avg_overall_rating_for_eachclub.sort_values(ascending=False).head(10)\n",
    "top_10_avg_overall_rating_for_eachclub"
   ]
  },
  {
   "cell_type": "code",
   "execution_count": 145,
   "id": "c800511e-639b-49b8-a19f-0957297b320b",
   "metadata": {},
   "outputs": [
    {
     "data": {
      "image/png": "[encoded data removed]",
      "text/plain": [
       "<Figure size 640x480 with 1 Axes>"
      ]
     },
     "metadata": {},
     "output_type": "display_data"
    }
   ],
   "source": [
    "sns.barplot(top_10_avg_overall_rating_for_eachclub)\n",
    "plt.xticks(rotation=45)\n",
    "plt.show()"
   ]
  },
  {
   "cell_type": "markdown",
   "id": "a748de8b-6513-407c-9f8e-09aa92ef2309",
   "metadata": {},
   "source": [
    "### 16. What is the relationship between age and individual potential of the player? Visualize the relationship with appropriate plot and Comment on the same. (2 points)"
   ]
  },
  {
   "cell_type": "code",
   "execution_count": 148,
   "id": "50bca0db-5660-45ce-a221-303b91b570db",
   "metadata": {},
   "outputs": [
    {
     "data": {
      "image/png": "[encoded data removed]",
      "text/plain": [
       "<Figure size 640x480 with 2 Axes>"
      ]
     },
     "metadata": {},
     "output_type": "display_data"
    }
   ],
   "source": [
    "sns.heatmap(df[['Age', 'Potential']].corr(), annot = True, cmap = 'Blues')\n",
    "plt.show()"
   ]
  },
  {
   "cell_type": "code",
   "execution_count": 152,
   "id": "d7c14068-9e4c-4356-b0c9-7f901a12260d",
   "metadata": {},
   "outputs": [
    {
     "data": {
      "image/png": "[encoded data removed]",
      "text/plain": [
       "<Figure size 640x480 with 1 Axes>"
      ]
     },
     "metadata": {},
     "output_type": "display_data"
    }
   ],
   "source": [
    "sns.lineplot(x= 'Age', y= 'Potential', data = df, color='red')\n",
    "plt.show()"
   ]
  },
  {
   "cell_type": "markdown",
   "id": "afbf9bfc-7753-47d2-9993-3838918a00ca",
   "metadata": {},
   "source": [
    "### 17. Which features directly contribute to the wages of the players? Support your answer with a plot and a metric. (2 points) \n",
    "- (hint: use potential, Overall, value, international reputation, and Release Clause)"
   ]
  },
  {
   "cell_type": "code",
   "execution_count": 150,
   "id": "8a261c1e-209f-4406-8f8a-f4cd60ec3318",
   "metadata": {},
   "outputs": [],
   "source": [
    "df_wages_corr = df[['Potential', 'Overall', 'Value', 'International Reputation', 'Release Clause', 'Wage']]"
   ]
  },
  {
   "cell_type": "code",
   "execution_count": 289,
   "id": "3de25763-65b4-440c-a0a3-5989d1035890",
   "metadata": {},
   "outputs": [
    {
     "data": {
      "image/png": "[encoded data removed]",
      "text/plain": [
       "<Figure size 1500x1500 with 42 Axes>"
      ]
     },
     "metadata": {},
     "output_type": "display_data"
    }
   ],
   "source": [
    "sns.pairplot(df_wages_corr, diag_kind='kde')\n",
    "plt.show()"
   ]
  },
  {
   "cell_type": "code",
   "execution_count": 277,
   "id": "88d525a3-3052-4f49-b7ad-f195f5eddaef",
   "metadata": {},
   "outputs": [
    {
     "data": {
      "image/png": "[encoded data removed]",
      "text/plain": [
       "<Figure size 640x480 with 2 Axes>"
      ]
     },
     "metadata": {},
     "output_type": "display_data"
    }
   ],
   "source": [
    "# plt.figure(figsize = (200, 200))\n",
    "sns.heatmap(df_wages_corr.corr(), annot = True, cmap = 'Blues')\n",
    "plt.show()"
   ]
  },
  {
   "cell_type": "markdown",
   "id": "7b883fb5-5147-468f-976b-a759f3d6468c",
   "metadata": {},
   "source": [
    "### 18. Find the position in the pitch where the maximum number of players play and the position where the minimum number of players play? Display it using a plot. (2 points)"
   ]
  },
  {
   "cell_type": "code",
   "execution_count": 158,
   "id": "4eff0482-eec5-43c6-8b86-edd01fc17d66",
   "metadata": {},
   "outputs": [
    {
     "data": {
      "text/plain": [
       "Position\n",
       "ST    2212\n",
       "Name: count, dtype: int64"
      ]
     },
     "execution_count": 158,
     "metadata": {},
     "output_type": "execute_result"
    }
   ],
   "source": [
    "df['Position'].value_counts().head(1)"
   ]
  },
  {
   "cell_type": "code",
   "execution_count": 160,
   "id": "a7d3dc93-45d0-43cb-a4f9-9a45b19e456e",
   "metadata": {},
   "outputs": [
    {
     "data": {
      "text/plain": [
       "Position\n",
       "LF    15\n",
       "Name: count, dtype: int64"
      ]
     },
     "execution_count": 160,
     "metadata": {},
     "output_type": "execute_result"
    }
   ],
   "source": [
    "df.Position.value_counts().tail(1)"
   ]
  },
  {
   "cell_type": "markdown",
   "id": "edecfd3f-8a64-462e-9419-f7d4df16b8fa",
   "metadata": {},
   "source": [
    "### 19. How many players are from the club 'Juventus' and the wage is greater than 200K? Display all the information of such players. (2 points)"
   ]
  },
  {
   "cell_type": "code",
   "execution_count": 166,
   "id": "8d40c4ba-03c6-47a8-adc4-6e7ed4062350",
   "metadata": {},
   "outputs": [
    {
     "name": "stdout",
     "output_type": "stream",
     "text": [
      "No. of Players playing for Juventus & Wage greater than 200K is :  3\n"
     ]
    },
    {
     "data": {
      "text/html": [
       "<div>\n",
       "<style scoped>\n",
       "    .dataframe tbody tr th:only-of-type {\n",
       "        vertical-align: middle;\n",
       "    }\n",
       "\n",
       "    .dataframe tbody tr th {\n",
       "        vertical-align: top;\n",
       "    }\n",
       "\n",
       "    .dataframe thead th {\n",
       "        text-align: right;\n",
       "    }\n",
       "</style>\n",
       "<table border=\"1\" class=\"dataframe\">\n",
       "  <thead>\n",
       "    <tr style=\"text-align: right;\">\n",
       "      <th></th>\n",
       "      <th>ID</th>\n",
       "      <th>Name</th>\n",
       "      <th>Age</th>\n",
       "      <th>Nationality</th>\n",
       "      <th>Overall</th>\n",
       "      <th>Potential</th>\n",
       "      <th>Club</th>\n",
       "      <th>Value</th>\n",
       "      <th>Wage</th>\n",
       "      <th>Preferred Foot</th>\n",
       "      <th>...</th>\n",
       "      <th>Composure</th>\n",
       "      <th>Marking</th>\n",
       "      <th>StandingTackle</th>\n",
       "      <th>SlidingTackle</th>\n",
       "      <th>GKDiving</th>\n",
       "      <th>GKHandling</th>\n",
       "      <th>GKKicking</th>\n",
       "      <th>GKPositioning</th>\n",
       "      <th>GKReflexes</th>\n",
       "      <th>Release Clause</th>\n",
       "    </tr>\n",
       "  </thead>\n",
       "  <tbody>\n",
       "    <tr>\n",
       "      <th>1</th>\n",
       "      <td>20801</td>\n",
       "      <td>Cristiano Ronaldo</td>\n",
       "      <td>33</td>\n",
       "      <td>Portugal</td>\n",
       "      <td>94</td>\n",
       "      <td>94</td>\n",
       "      <td>Juventus</td>\n",
       "      <td>77000000.0</td>\n",
       "      <td>405000.0</td>\n",
       "      <td>Right</td>\n",
       "      <td>...</td>\n",
       "      <td>95.0</td>\n",
       "      <td>28.0</td>\n",
       "      <td>31.0</td>\n",
       "      <td>23.0</td>\n",
       "      <td>7.0</td>\n",
       "      <td>11.0</td>\n",
       "      <td>15.0</td>\n",
       "      <td>14.0</td>\n",
       "      <td>11.0</td>\n",
       "      <td>127100000.0</td>\n",
       "    </tr>\n",
       "    <tr>\n",
       "      <th>15</th>\n",
       "      <td>211110</td>\n",
       "      <td>P. Dybala</td>\n",
       "      <td>24</td>\n",
       "      <td>Argentina</td>\n",
       "      <td>89</td>\n",
       "      <td>94</td>\n",
       "      <td>Juventus</td>\n",
       "      <td>89000000.0</td>\n",
       "      <td>205000.0</td>\n",
       "      <td>Left</td>\n",
       "      <td>...</td>\n",
       "      <td>84.0</td>\n",
       "      <td>23.0</td>\n",
       "      <td>20.0</td>\n",
       "      <td>20.0</td>\n",
       "      <td>5.0</td>\n",
       "      <td>4.0</td>\n",
       "      <td>4.0</td>\n",
       "      <td>5.0</td>\n",
       "      <td>8.0</td>\n",
       "      <td>153500000.0</td>\n",
       "    </tr>\n",
       "    <tr>\n",
       "      <th>24</th>\n",
       "      <td>138956</td>\n",
       "      <td>G. Chiellini</td>\n",
       "      <td>33</td>\n",
       "      <td>Italy</td>\n",
       "      <td>89</td>\n",
       "      <td>89</td>\n",
       "      <td>Juventus</td>\n",
       "      <td>27000000.0</td>\n",
       "      <td>215000.0</td>\n",
       "      <td>Left</td>\n",
       "      <td>...</td>\n",
       "      <td>84.0</td>\n",
       "      <td>93.0</td>\n",
       "      <td>93.0</td>\n",
       "      <td>90.0</td>\n",
       "      <td>3.0</td>\n",
       "      <td>3.0</td>\n",
       "      <td>2.0</td>\n",
       "      <td>4.0</td>\n",
       "      <td>3.0</td>\n",
       "      <td>44600000.0</td>\n",
       "    </tr>\n",
       "  </tbody>\n",
       "</table>\n",
       "<p>3 rows × 56 columns</p>\n",
       "</div>"
      ],
      "text/plain": [
       "        ID               Name  Age Nationality  Overall  Potential      Club  \\\n",
       "1    20801  Cristiano Ronaldo   33    Portugal       94         94  Juventus   \n",
       "15  211110          P. Dybala   24   Argentina       89         94  Juventus   \n",
       "24  138956       G. Chiellini   33       Italy       89         89  Juventus   \n",
       "\n",
       "         Value      Wage Preferred Foot  ...  Composure  Marking  \\\n",
       "1   77000000.0  405000.0          Right  ...       95.0     28.0   \n",
       "15  89000000.0  205000.0           Left  ...       84.0     23.0   \n",
       "24  27000000.0  215000.0           Left  ...       84.0     93.0   \n",
       "\n",
       "    StandingTackle SlidingTackle GKDiving GKHandling  GKKicking  \\\n",
       "1             31.0          23.0      7.0       11.0       15.0   \n",
       "15            20.0          20.0      5.0        4.0        4.0   \n",
       "24            93.0          90.0      3.0        3.0        2.0   \n",
       "\n",
       "    GKPositioning GKReflexes  Release Clause  \n",
       "1            14.0       11.0     127100000.0  \n",
       "15            5.0        8.0     153500000.0  \n",
       "24            4.0        3.0      44600000.0  \n",
       "\n",
       "[3 rows x 56 columns]"
      ]
     },
     "execution_count": 166,
     "metadata": {},
     "output_type": "execute_result"
    }
   ],
   "source": [
    "Juv200K_df = df[ (df['Club']=='Juventus') & (df['Wage'] > 200000) ]\n",
    "print(\"No. of Players playing for Juventus & Wage greater than 200K is : \", len(Juv200K_df))\n",
    "Juv200K_df"
   ]
  },
  {
   "cell_type": "markdown",
   "id": "500c7309-9792-4485-80e5-5310bc331ba6",
   "metadata": {},
   "source": [
    "### 20. Generate a data frame containing top 5 players by Overall rating for each unique position. (2 Points)"
   ]
  },
  {
   "cell_type": "code",
   "execution_count": 168,
   "id": "5f6767df-cc8e-466d-a50b-8c333dba0750",
   "metadata": {},
   "outputs": [
    {
     "name": "stdout",
     "output_type": "stream",
     "text": [
      "Count of distinct positions:  27\n",
      "Data Frame row count:  135\n"
     ]
    },
    {
     "data": {
      "text/html": [
       "<div>\n",
       "<style scoped>\n",
       "    .dataframe tbody tr th:only-of-type {\n",
       "        vertical-align: middle;\n",
       "    }\n",
       "\n",
       "    .dataframe tbody tr th {\n",
       "        vertical-align: top;\n",
       "    }\n",
       "\n",
       "    .dataframe thead th {\n",
       "        text-align: right;\n",
       "    }\n",
       "</style>\n",
       "<table border=\"1\" class=\"dataframe\">\n",
       "  <thead>\n",
       "    <tr style=\"text-align: right;\">\n",
       "      <th></th>\n",
       "      <th>Position</th>\n",
       "      <th>Name</th>\n",
       "      <th>Overall</th>\n",
       "    </tr>\n",
       "  </thead>\n",
       "  <tbody>\n",
       "    <tr>\n",
       "      <th>0</th>\n",
       "      <td>CAM</td>\n",
       "      <td>A. Griezmann</td>\n",
       "      <td>89</td>\n",
       "    </tr>\n",
       "    <tr>\n",
       "      <th>1</th>\n",
       "      <td>CAM</td>\n",
       "      <td>C. Eriksen</td>\n",
       "      <td>88</td>\n",
       "    </tr>\n",
       "    <tr>\n",
       "      <th>2</th>\n",
       "      <td>CAM</td>\n",
       "      <td>M. Özil</td>\n",
       "      <td>86</td>\n",
       "    </tr>\n",
       "    <tr>\n",
       "      <th>3</th>\n",
       "      <td>CAM</td>\n",
       "      <td>T. Müller</td>\n",
       "      <td>86</td>\n",
       "    </tr>\n",
       "    <tr>\n",
       "      <th>4</th>\n",
       "      <td>CAM</td>\n",
       "      <td>Roberto Firmino</td>\n",
       "      <td>86</td>\n",
       "    </tr>\n",
       "    <tr>\n",
       "      <th>...</th>\n",
       "      <td>...</td>\n",
       "      <td>...</td>\n",
       "      <td>...</td>\n",
       "    </tr>\n",
       "    <tr>\n",
       "      <th>130</th>\n",
       "      <td>ST</td>\n",
       "      <td>Cristiano Ronaldo</td>\n",
       "      <td>94</td>\n",
       "    </tr>\n",
       "    <tr>\n",
       "      <th>131</th>\n",
       "      <td>ST</td>\n",
       "      <td>R. Lewandowski</td>\n",
       "      <td>90</td>\n",
       "    </tr>\n",
       "    <tr>\n",
       "      <th>132</th>\n",
       "      <td>ST</td>\n",
       "      <td>S. Agüero</td>\n",
       "      <td>89</td>\n",
       "    </tr>\n",
       "    <tr>\n",
       "      <th>133</th>\n",
       "      <td>ST</td>\n",
       "      <td>H. Kane</td>\n",
       "      <td>89</td>\n",
       "    </tr>\n",
       "    <tr>\n",
       "      <th>134</th>\n",
       "      <td>ST</td>\n",
       "      <td>G. Bale</td>\n",
       "      <td>88</td>\n",
       "    </tr>\n",
       "  </tbody>\n",
       "</table>\n",
       "<p>135 rows × 3 columns</p>\n",
       "</div>"
      ],
      "text/plain": [
       "    Position               Name  Overall\n",
       "0        CAM       A. Griezmann       89\n",
       "1        CAM         C. Eriksen       88\n",
       "2        CAM            M. Özil       86\n",
       "3        CAM          T. Müller       86\n",
       "4        CAM    Roberto Firmino       86\n",
       "..       ...                ...      ...\n",
       "130       ST  Cristiano Ronaldo       94\n",
       "131       ST     R. Lewandowski       90\n",
       "132       ST          S. Agüero       89\n",
       "133       ST            H. Kane       89\n",
       "134       ST            G. Bale       88\n",
       "\n",
       "[135 rows x 3 columns]"
      ]
     },
     "execution_count": 168,
     "metadata": {},
     "output_type": "execute_result"
    }
   ],
   "source": [
    "# Get count of unique positions in the dataset\n",
    "distinct_positions = df['Position'].nunique()\n",
    "print('Count of distinct positions: ',distinct_positions)\n",
    "print('Data Frame row count: ',distinct_positions * 5)\n",
    "sorted_df = df.sort_values(by = 'Overall', ascending = False).groupby('Position').head(5)\n",
    "sorted_df = sorted_df.sort_values(by = ['Position','Overall'], ascending = [True,False]).reset_index(drop=True)\n",
    "sorted_df[['Position','Name','Overall']]"
   ]
  },
  {
   "cell_type": "markdown",
   "id": "c310925c-4069-4688-97af-54bdffc1633c",
   "metadata": {},
   "source": [
    "### 21. What is the average wage one can expect to pay for the top 5 players in every position? (use the data frame created in Q19) (2 points)"
   ]
  },
  {
   "cell_type": "code",
   "execution_count": 170,
   "id": "102181dd-ef8b-43c5-951e-d58688551825",
   "metadata": {},
   "outputs": [
    {
     "data": {
      "text/html": [
       "<div>\n",
       "<style scoped>\n",
       "    .dataframe tbody tr th:only-of-type {\n",
       "        vertical-align: middle;\n",
       "    }\n",
       "\n",
       "    .dataframe tbody tr th {\n",
       "        vertical-align: top;\n",
       "    }\n",
       "\n",
       "    .dataframe thead th {\n",
       "        text-align: right;\n",
       "    }\n",
       "</style>\n",
       "<table border=\"1\" class=\"dataframe\">\n",
       "  <thead>\n",
       "    <tr style=\"text-align: right;\">\n",
       "      <th></th>\n",
       "      <th>Wage</th>\n",
       "    </tr>\n",
       "    <tr>\n",
       "      <th>Position</th>\n",
       "      <th></th>\n",
       "    </tr>\n",
       "  </thead>\n",
       "  <tbody>\n",
       "    <tr>\n",
       "      <th>CAM</th>\n",
       "      <td>174000.0</td>\n",
       "    </tr>\n",
       "    <tr>\n",
       "      <th>CB</th>\n",
       "      <td>124800.0</td>\n",
       "    </tr>\n",
       "    <tr>\n",
       "      <th>CDM</th>\n",
       "      <td>199200.0</td>\n",
       "    </tr>\n",
       "    <tr>\n",
       "      <th>CF</th>\n",
       "      <td>47400.0</td>\n",
       "    </tr>\n",
       "    <tr>\n",
       "      <th>CM</th>\n",
       "      <td>130600.0</td>\n",
       "    </tr>\n",
       "    <tr>\n",
       "      <th>GK</th>\n",
       "      <td>192800.0</td>\n",
       "    </tr>\n",
       "    <tr>\n",
       "      <th>LAM</th>\n",
       "      <td>81600.0</td>\n",
       "    </tr>\n",
       "    <tr>\n",
       "      <th>LB</th>\n",
       "      <td>177200.0</td>\n",
       "    </tr>\n",
       "    <tr>\n",
       "      <th>LCB</th>\n",
       "      <td>162000.0</td>\n",
       "    </tr>\n",
       "    <tr>\n",
       "      <th>LCM</th>\n",
       "      <td>195400.0</td>\n",
       "    </tr>\n",
       "    <tr>\n",
       "      <th>LDM</th>\n",
       "      <td>138000.0</td>\n",
       "    </tr>\n",
       "    <tr>\n",
       "      <th>LF</th>\n",
       "      <td>123200.0</td>\n",
       "    </tr>\n",
       "    <tr>\n",
       "      <th>LM</th>\n",
       "      <td>169000.0</td>\n",
       "    </tr>\n",
       "    <tr>\n",
       "      <th>LS</th>\n",
       "      <td>130600.0</td>\n",
       "    </tr>\n",
       "    <tr>\n",
       "      <th>LW</th>\n",
       "      <td>261000.0</td>\n",
       "    </tr>\n",
       "    <tr>\n",
       "      <th>LWB</th>\n",
       "      <td>33000.0</td>\n",
       "    </tr>\n",
       "    <tr>\n",
       "      <th>RAM</th>\n",
       "      <td>46600.0</td>\n",
       "    </tr>\n",
       "    <tr>\n",
       "      <th>RB</th>\n",
       "      <td>155400.0</td>\n",
       "    </tr>\n",
       "    <tr>\n",
       "      <th>RCB</th>\n",
       "      <td>219000.0</td>\n",
       "    </tr>\n",
       "    <tr>\n",
       "      <th>RCM</th>\n",
       "      <td>257400.0</td>\n",
       "    </tr>\n",
       "    <tr>\n",
       "      <th>RDM</th>\n",
       "      <td>105000.0</td>\n",
       "    </tr>\n",
       "    <tr>\n",
       "      <th>RF</th>\n",
       "      <td>148000.0</td>\n",
       "    </tr>\n",
       "    <tr>\n",
       "      <th>RM</th>\n",
       "      <td>133000.0</td>\n",
       "    </tr>\n",
       "    <tr>\n",
       "      <th>RS</th>\n",
       "      <td>130400.0</td>\n",
       "    </tr>\n",
       "    <tr>\n",
       "      <th>RW</th>\n",
       "      <td>202000.0</td>\n",
       "    </tr>\n",
       "    <tr>\n",
       "      <th>RWB</th>\n",
       "      <td>44200.0</td>\n",
       "    </tr>\n",
       "    <tr>\n",
       "      <th>ST</th>\n",
       "      <td>294000.0</td>\n",
       "    </tr>\n",
       "  </tbody>\n",
       "</table>\n",
       "</div>"
      ],
      "text/plain": [
       "              Wage\n",
       "Position          \n",
       "CAM       174000.0\n",
       "CB        124800.0\n",
       "CDM       199200.0\n",
       "CF         47400.0\n",
       "CM        130600.0\n",
       "GK        192800.0\n",
       "LAM        81600.0\n",
       "LB        177200.0\n",
       "LCB       162000.0\n",
       "LCM       195400.0\n",
       "LDM       138000.0\n",
       "LF        123200.0\n",
       "LM        169000.0\n",
       "LS        130600.0\n",
       "LW        261000.0\n",
       "LWB        33000.0\n",
       "RAM        46600.0\n",
       "RB        155400.0\n",
       "RCB       219000.0\n",
       "RCM       257400.0\n",
       "RDM       105000.0\n",
       "RF        148000.0\n",
       "RM        133000.0\n",
       "RS        130400.0\n",
       "RW        202000.0\n",
       "RWB        44200.0\n",
       "ST        294000.0"
      ]
     },
     "execution_count": 170,
     "metadata": {},
     "output_type": "execute_result"
    }
   ],
   "source": [
    "sorted_df.groupby(['Position'])[['Wage']].mean()"
   ]
  }
 ],
 "metadata": {
  "kernelspec": {
   "display_name": "Python 3 (ipykernel)",
   "language": "python",
   "name": "python3"
  },
  "language_info": {
   "codemirror_mode": {
    "name": "ipython",
    "version": 3
   },
   "file_extension": ".py",
   "mimetype": "text/x-python",
   "name": "python",
   "nbconvert_exporter": "python",
   "pygments_lexer": "ipython3",
   "version": "3.12.4"
  }
 },
 "nbformat": 4,
 "nbformat_minor": 5
}
